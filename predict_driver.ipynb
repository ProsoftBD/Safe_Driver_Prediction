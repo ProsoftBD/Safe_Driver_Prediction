{
 "cells": [
  {
   "cell_type": "code",
   "execution_count": 1,
   "metadata": {
    "collapsed": true
   },
   "outputs": [],
   "source": [
    "import numpy as np\n",
    "import pandas as pd\n",
    "import warnings\n",
    "import matplotlib.pyplot as plt\n",
    "from sklearn.utils import shuffle\n",
    "from sklearn.preprocessing import StandardScaler\n",
    "from sklearn.model_selection import train_test_split\n",
    "from sklearn.ensemble import RandomForestClassifier\n",
    "\n",
    "random_state = 6\n",
    "np.random.seed(random_state)\n",
    "warnings.filterwarnings('ignore')"
   ]
  },
  {
   "cell_type": "code",
   "execution_count": 2,
   "metadata": {
    "collapsed": true
   },
   "outputs": [],
   "source": [
    "%matplotlib inline\n",
    "get_ipython().run_line_magic('matplotlib', 'inline')\n",
    "\n",
    "# latex parameter\n",
    "font = {\n",
    "    'family': 'serif', \n",
    "    'serif': ['Computer Modern Roman'],\n",
    "    'weight' : 'regular',\n",
    "    'size'   : 18\n",
    "    }\n",
    "\n",
    "plt.rc('font', **font)\n",
    "plt.rc('text', usetex=False)\n",
    "# plt.style.use('classic')\n",
    "\n",
    "color_map = 'viridis'"
   ]
  },
  {
   "cell_type": "code",
   "execution_count": 3,
   "metadata": {
    "collapsed": true
   },
   "outputs": [],
   "source": [
    "df_train = pd.read_csv('train.csv',na_values=-1)\n",
    "df_test = pd.read_csv('test.csv',na_values=-1)"
   ]
  },
  {
   "cell_type": "markdown",
   "metadata": {},
   "source": [
    "### Check if both test and train have the same shape"
   ]
  },
  {
   "cell_type": "code",
   "execution_count": 4,
   "metadata": {},
   "outputs": [
    {
     "name": "stdout",
     "output_type": "stream",
     "text": [
      "Training data shape: (595212, 59)\n",
      "Training data shape: (892816, 58)\n"
     ]
    }
   ],
   "source": [
    "print('Training data shape: {}'.format(df_train.shape))\n",
    "print('Training data shape: {}'.format(df_test.shape))"
   ]
  },
  {
   "cell_type": "markdown",
   "metadata": {},
   "source": [
    "### Check if there are any missing values"
   ]
  },
  {
   "cell_type": "code",
   "execution_count": 5,
   "metadata": {},
   "outputs": [
    {
     "name": "stdout",
     "output_type": "stream",
     "text": [
      "Is null on train: True\n",
      "Is null on test: True\n"
     ]
    }
   ],
   "source": [
    "print('Is null on train: {}'.format(df_train.isnull().any().any()))\n",
    "print('Is null on test: {}'.format(df_test.isnull().any().any()))"
   ]
  },
  {
   "cell_type": "markdown",
   "metadata": {},
   "source": [
    "### Descriptive statistics"
   ]
  },
  {
   "cell_type": "code",
   "execution_count": 6,
   "metadata": {},
   "outputs": [
    {
     "data": {
      "text/html": [
       "<div>\n",
       "<style>\n",
       "    .dataframe thead tr:only-child th {\n",
       "        text-align: right;\n",
       "    }\n",
       "\n",
       "    .dataframe thead th {\n",
       "        text-align: left;\n",
       "    }\n",
       "\n",
       "    .dataframe tbody tr th {\n",
       "        vertical-align: top;\n",
       "    }\n",
       "</style>\n",
       "<table border=\"1\" class=\"dataframe\">\n",
       "  <thead>\n",
       "    <tr style=\"text-align: right;\">\n",
       "      <th></th>\n",
       "      <th>id</th>\n",
       "      <th>target</th>\n",
       "      <th>ps_ind_01</th>\n",
       "      <th>ps_ind_02_cat</th>\n",
       "      <th>ps_ind_03</th>\n",
       "      <th>ps_ind_04_cat</th>\n",
       "      <th>ps_ind_05_cat</th>\n",
       "      <th>ps_ind_06_bin</th>\n",
       "      <th>ps_ind_07_bin</th>\n",
       "      <th>ps_ind_08_bin</th>\n",
       "      <th>...</th>\n",
       "      <th>ps_calc_11</th>\n",
       "      <th>ps_calc_12</th>\n",
       "      <th>ps_calc_13</th>\n",
       "      <th>ps_calc_14</th>\n",
       "      <th>ps_calc_15_bin</th>\n",
       "      <th>ps_calc_16_bin</th>\n",
       "      <th>ps_calc_17_bin</th>\n",
       "      <th>ps_calc_18_bin</th>\n",
       "      <th>ps_calc_19_bin</th>\n",
       "      <th>ps_calc_20_bin</th>\n",
       "    </tr>\n",
       "  </thead>\n",
       "  <tbody>\n",
       "    <tr>\n",
       "      <th>count</th>\n",
       "      <td>5.952120e+05</td>\n",
       "      <td>595212.000000</td>\n",
       "      <td>595212.000000</td>\n",
       "      <td>594996.000000</td>\n",
       "      <td>595212.000000</td>\n",
       "      <td>595129.000000</td>\n",
       "      <td>589403.000000</td>\n",
       "      <td>595212.000000</td>\n",
       "      <td>595212.000000</td>\n",
       "      <td>595212.000000</td>\n",
       "      <td>...</td>\n",
       "      <td>595212.000000</td>\n",
       "      <td>595212.000000</td>\n",
       "      <td>595212.000000</td>\n",
       "      <td>595212.000000</td>\n",
       "      <td>595212.000000</td>\n",
       "      <td>595212.000000</td>\n",
       "      <td>595212.000000</td>\n",
       "      <td>595212.000000</td>\n",
       "      <td>595212.000000</td>\n",
       "      <td>595212.000000</td>\n",
       "    </tr>\n",
       "    <tr>\n",
       "      <th>mean</th>\n",
       "      <td>7.438036e+05</td>\n",
       "      <td>0.036448</td>\n",
       "      <td>1.900378</td>\n",
       "      <td>1.359799</td>\n",
       "      <td>4.423318</td>\n",
       "      <td>0.416992</td>\n",
       "      <td>0.419038</td>\n",
       "      <td>0.393742</td>\n",
       "      <td>0.257033</td>\n",
       "      <td>0.163921</td>\n",
       "      <td>...</td>\n",
       "      <td>5.441382</td>\n",
       "      <td>1.441918</td>\n",
       "      <td>2.872288</td>\n",
       "      <td>7.539026</td>\n",
       "      <td>0.122427</td>\n",
       "      <td>0.627840</td>\n",
       "      <td>0.554182</td>\n",
       "      <td>0.287182</td>\n",
       "      <td>0.349024</td>\n",
       "      <td>0.153318</td>\n",
       "    </tr>\n",
       "    <tr>\n",
       "      <th>std</th>\n",
       "      <td>4.293678e+05</td>\n",
       "      <td>0.187401</td>\n",
       "      <td>1.983789</td>\n",
       "      <td>0.663193</td>\n",
       "      <td>2.699902</td>\n",
       "      <td>0.493062</td>\n",
       "      <td>1.350023</td>\n",
       "      <td>0.488579</td>\n",
       "      <td>0.436998</td>\n",
       "      <td>0.370205</td>\n",
       "      <td>...</td>\n",
       "      <td>2.332871</td>\n",
       "      <td>1.202963</td>\n",
       "      <td>1.694887</td>\n",
       "      <td>2.746652</td>\n",
       "      <td>0.327779</td>\n",
       "      <td>0.483381</td>\n",
       "      <td>0.497056</td>\n",
       "      <td>0.452447</td>\n",
       "      <td>0.476662</td>\n",
       "      <td>0.360295</td>\n",
       "    </tr>\n",
       "    <tr>\n",
       "      <th>min</th>\n",
       "      <td>7.000000e+00</td>\n",
       "      <td>0.000000</td>\n",
       "      <td>0.000000</td>\n",
       "      <td>1.000000</td>\n",
       "      <td>0.000000</td>\n",
       "      <td>0.000000</td>\n",
       "      <td>0.000000</td>\n",
       "      <td>0.000000</td>\n",
       "      <td>0.000000</td>\n",
       "      <td>0.000000</td>\n",
       "      <td>...</td>\n",
       "      <td>0.000000</td>\n",
       "      <td>0.000000</td>\n",
       "      <td>0.000000</td>\n",
       "      <td>0.000000</td>\n",
       "      <td>0.000000</td>\n",
       "      <td>0.000000</td>\n",
       "      <td>0.000000</td>\n",
       "      <td>0.000000</td>\n",
       "      <td>0.000000</td>\n",
       "      <td>0.000000</td>\n",
       "    </tr>\n",
       "    <tr>\n",
       "      <th>25%</th>\n",
       "      <td>3.719915e+05</td>\n",
       "      <td>0.000000</td>\n",
       "      <td>0.000000</td>\n",
       "      <td>1.000000</td>\n",
       "      <td>2.000000</td>\n",
       "      <td>0.000000</td>\n",
       "      <td>0.000000</td>\n",
       "      <td>0.000000</td>\n",
       "      <td>0.000000</td>\n",
       "      <td>0.000000</td>\n",
       "      <td>...</td>\n",
       "      <td>4.000000</td>\n",
       "      <td>1.000000</td>\n",
       "      <td>2.000000</td>\n",
       "      <td>6.000000</td>\n",
       "      <td>0.000000</td>\n",
       "      <td>0.000000</td>\n",
       "      <td>0.000000</td>\n",
       "      <td>0.000000</td>\n",
       "      <td>0.000000</td>\n",
       "      <td>0.000000</td>\n",
       "    </tr>\n",
       "    <tr>\n",
       "      <th>50%</th>\n",
       "      <td>7.435475e+05</td>\n",
       "      <td>0.000000</td>\n",
       "      <td>1.000000</td>\n",
       "      <td>1.000000</td>\n",
       "      <td>4.000000</td>\n",
       "      <td>0.000000</td>\n",
       "      <td>0.000000</td>\n",
       "      <td>0.000000</td>\n",
       "      <td>0.000000</td>\n",
       "      <td>0.000000</td>\n",
       "      <td>...</td>\n",
       "      <td>5.000000</td>\n",
       "      <td>1.000000</td>\n",
       "      <td>3.000000</td>\n",
       "      <td>7.000000</td>\n",
       "      <td>0.000000</td>\n",
       "      <td>1.000000</td>\n",
       "      <td>1.000000</td>\n",
       "      <td>0.000000</td>\n",
       "      <td>0.000000</td>\n",
       "      <td>0.000000</td>\n",
       "    </tr>\n",
       "    <tr>\n",
       "      <th>75%</th>\n",
       "      <td>1.115549e+06</td>\n",
       "      <td>0.000000</td>\n",
       "      <td>3.000000</td>\n",
       "      <td>2.000000</td>\n",
       "      <td>6.000000</td>\n",
       "      <td>1.000000</td>\n",
       "      <td>0.000000</td>\n",
       "      <td>1.000000</td>\n",
       "      <td>1.000000</td>\n",
       "      <td>0.000000</td>\n",
       "      <td>...</td>\n",
       "      <td>7.000000</td>\n",
       "      <td>2.000000</td>\n",
       "      <td>4.000000</td>\n",
       "      <td>9.000000</td>\n",
       "      <td>0.000000</td>\n",
       "      <td>1.000000</td>\n",
       "      <td>1.000000</td>\n",
       "      <td>1.000000</td>\n",
       "      <td>1.000000</td>\n",
       "      <td>0.000000</td>\n",
       "    </tr>\n",
       "    <tr>\n",
       "      <th>max</th>\n",
       "      <td>1.488027e+06</td>\n",
       "      <td>1.000000</td>\n",
       "      <td>7.000000</td>\n",
       "      <td>4.000000</td>\n",
       "      <td>11.000000</td>\n",
       "      <td>1.000000</td>\n",
       "      <td>6.000000</td>\n",
       "      <td>1.000000</td>\n",
       "      <td>1.000000</td>\n",
       "      <td>1.000000</td>\n",
       "      <td>...</td>\n",
       "      <td>19.000000</td>\n",
       "      <td>10.000000</td>\n",
       "      <td>13.000000</td>\n",
       "      <td>23.000000</td>\n",
       "      <td>1.000000</td>\n",
       "      <td>1.000000</td>\n",
       "      <td>1.000000</td>\n",
       "      <td>1.000000</td>\n",
       "      <td>1.000000</td>\n",
       "      <td>1.000000</td>\n",
       "    </tr>\n",
       "  </tbody>\n",
       "</table>\n",
       "<p>8 rows × 59 columns</p>\n",
       "</div>"
      ],
      "text/plain": [
       "                 id         target      ps_ind_01  ps_ind_02_cat  \\\n",
       "count  5.952120e+05  595212.000000  595212.000000  594996.000000   \n",
       "mean   7.438036e+05       0.036448       1.900378       1.359799   \n",
       "std    4.293678e+05       0.187401       1.983789       0.663193   \n",
       "min    7.000000e+00       0.000000       0.000000       1.000000   \n",
       "25%    3.719915e+05       0.000000       0.000000       1.000000   \n",
       "50%    7.435475e+05       0.000000       1.000000       1.000000   \n",
       "75%    1.115549e+06       0.000000       3.000000       2.000000   \n",
       "max    1.488027e+06       1.000000       7.000000       4.000000   \n",
       "\n",
       "           ps_ind_03  ps_ind_04_cat  ps_ind_05_cat  ps_ind_06_bin  \\\n",
       "count  595212.000000  595129.000000  589403.000000  595212.000000   \n",
       "mean        4.423318       0.416992       0.419038       0.393742   \n",
       "std         2.699902       0.493062       1.350023       0.488579   \n",
       "min         0.000000       0.000000       0.000000       0.000000   \n",
       "25%         2.000000       0.000000       0.000000       0.000000   \n",
       "50%         4.000000       0.000000       0.000000       0.000000   \n",
       "75%         6.000000       1.000000       0.000000       1.000000   \n",
       "max        11.000000       1.000000       6.000000       1.000000   \n",
       "\n",
       "       ps_ind_07_bin  ps_ind_08_bin       ...           ps_calc_11  \\\n",
       "count  595212.000000  595212.000000       ...        595212.000000   \n",
       "mean        0.257033       0.163921       ...             5.441382   \n",
       "std         0.436998       0.370205       ...             2.332871   \n",
       "min         0.000000       0.000000       ...             0.000000   \n",
       "25%         0.000000       0.000000       ...             4.000000   \n",
       "50%         0.000000       0.000000       ...             5.000000   \n",
       "75%         1.000000       0.000000       ...             7.000000   \n",
       "max         1.000000       1.000000       ...            19.000000   \n",
       "\n",
       "          ps_calc_12     ps_calc_13     ps_calc_14  ps_calc_15_bin  \\\n",
       "count  595212.000000  595212.000000  595212.000000   595212.000000   \n",
       "mean        1.441918       2.872288       7.539026        0.122427   \n",
       "std         1.202963       1.694887       2.746652        0.327779   \n",
       "min         0.000000       0.000000       0.000000        0.000000   \n",
       "25%         1.000000       2.000000       6.000000        0.000000   \n",
       "50%         1.000000       3.000000       7.000000        0.000000   \n",
       "75%         2.000000       4.000000       9.000000        0.000000   \n",
       "max        10.000000      13.000000      23.000000        1.000000   \n",
       "\n",
       "       ps_calc_16_bin  ps_calc_17_bin  ps_calc_18_bin  ps_calc_19_bin  \\\n",
       "count   595212.000000   595212.000000   595212.000000   595212.000000   \n",
       "mean         0.627840        0.554182        0.287182        0.349024   \n",
       "std          0.483381        0.497056        0.452447        0.476662   \n",
       "min          0.000000        0.000000        0.000000        0.000000   \n",
       "25%          0.000000        0.000000        0.000000        0.000000   \n",
       "50%          1.000000        1.000000        0.000000        0.000000   \n",
       "75%          1.000000        1.000000        1.000000        1.000000   \n",
       "max          1.000000        1.000000        1.000000        1.000000   \n",
       "\n",
       "       ps_calc_20_bin  \n",
       "count   595212.000000  \n",
       "mean         0.153318  \n",
       "std          0.360295  \n",
       "min          0.000000  \n",
       "25%          0.000000  \n",
       "50%          0.000000  \n",
       "75%          0.000000  \n",
       "max          1.000000  \n",
       "\n",
       "[8 rows x 59 columns]"
      ]
     },
     "execution_count": 6,
     "metadata": {},
     "output_type": "execute_result"
    }
   ],
   "source": [
    "df_train.describe()"
   ]
  },
  {
   "cell_type": "markdown",
   "metadata": {},
   "source": [
    "### Heatmap "
   ]
  },
  {
   "cell_type": "code",
   "execution_count": 7,
   "metadata": {},
   "outputs": [
    {
     "data": {
      "text/plain": [
       "<matplotlib.axes._subplots.AxesSubplot at 0x10a6d2e80>"
      ]
     },
     "execution_count": 7,
     "metadata": {},
     "output_type": "execute_result"
    },
    {
     "data": {
      "image/png": "[encoded data removed]",
      "text/plain": [
       "<matplotlib.figure.Figure at 0x10ba8c320>"
      ]
     },
     "metadata": {},
     "output_type": "display_data"
    }
   ],
   "source": [
    "import seaborn as sns\n",
    "cor = df_train.corr()\n",
    "plt.figure(figsize=(16,10))\n",
    "sns.heatmap(cor)"
   ]
  },
  {
   "cell_type": "markdown",
   "metadata": {},
   "source": [
    "#### Since 'ps_calc' features do not show any have zero relationship with other features\n",
    "#### We can delete them."
   ]
  },
  {
   "cell_type": "code",
   "execution_count": 8,
   "metadata": {},
   "outputs": [
    {
     "name": "stdout",
     "output_type": "stream",
     "text": [
      "(595212, 39)\n",
      "(892816, 38)\n"
     ]
    }
   ],
   "source": [
    "col_to_drop = df_train.columns[df_train.columns.str.startswith('ps_calc_')]\n",
    "df_train = df_train.drop(col_to_drop, axis=1)  \n",
    "df_test = df_test.drop(col_to_drop, axis=1)\n",
    "print(df_train.shape)\n",
    "print(df_test.shape)"
   ]
  },
  {
   "cell_type": "markdown",
   "metadata": {},
   "source": [
    "## Work with missing values"
   ]
  },
  {
   "cell_type": "code",
   "execution_count": 9,
   "metadata": {
    "collapsed": true
   },
   "outputs": [],
   "source": [
    "df_train['target'] = df_train['target'].astype('category')"
   ]
  },
  {
   "cell_type": "code",
   "execution_count": 34,
   "metadata": {
    "collapsed": true
   },
   "outputs": [],
   "source": [
    "def get_missing_features(df):\n",
    "    missings = pd.DataFrame([], columns=['feature', 'no_recoreds', 'percentage'])\n",
    "    total_rows = df.shape[0]\n",
    "    index = 0\n",
    "    for feature in list(df):\n",
    "        total_nulls = df[feature].isnull().sum()\n",
    "        if total_nulls > 0:\n",
    "            missings_perc = total_nulls / total_rows\n",
    "            missings.loc[index] = [feature, total_nulls, missings_perc]\n",
    "            index += 1\n",
    "    missings = missings.sort_values('no_recoreds', ascending=False)\n",
    "    return missings"
   ]
  },
  {
   "cell_type": "code",
   "execution_count": 36,
   "metadata": {},
   "outputs": [
    {
     "name": "stdout",
     "output_type": "stream",
     "text": [
      "          feature no_recoreds  percentage\n",
      "6   ps_car_03_cat      411231    0.690898\n",
      "7   ps_car_05_cat      266551    0.447825\n",
      "3       ps_reg_03      107772    0.181065\n",
      "12      ps_car_14       42620    0.071605\n",
      "8   ps_car_07_cat       11489    0.019302\n",
      "2   ps_ind_05_cat        5809    0.009760\n",
      "9   ps_car_09_cat         569    0.000956\n",
      "0   ps_ind_02_cat         216    0.000363\n",
      "4   ps_car_01_cat         107    0.000180\n",
      "1   ps_ind_04_cat          83    0.000139\n",
      "5   ps_car_02_cat           5    0.000008\n",
      "10      ps_car_11           5    0.000008\n",
      "11      ps_car_12           1    0.000002\n"
     ]
    }
   ],
   "source": [
    "df_missings = get_missing_features(df_train)\n",
    "print(df_missings)"
   ]
  },
  {
   "cell_type": "markdown",
   "metadata": {},
   "source": [
    "### Bar plot of missing features"
   ]
  },
  {
   "cell_type": "code",
   "execution_count": 37,
   "metadata": {},
   "outputs": [
    {
     "data": {
      "text/plain": [
       "<matplotlib.axes._subplots.AxesSubplot at 0x1117686a0>"
      ]
     },
     "execution_count": 37,
     "metadata": {},
     "output_type": "execute_result"
    },
    {
     "data": {
      "image/png": "[encoded data removed]",
      "text/plain": [
       "<matplotlib.figure.Figure at 0x111768b38>"
      ]
     },
     "metadata": {},
     "output_type": "display_data"
    }
   ],
   "source": [
    "df_missings.plot(x='feature', y='no_recoreds', kind='bar', )"
   ]
  },
  {
   "cell_type": "markdown",
   "metadata": {},
   "source": [
    "### Treat missing values by mean of the column"
   ]
  },
  {
   "cell_type": "code",
   "execution_count": 41,
   "metadata": {
    "collapsed": true
   },
   "outputs": [],
   "source": [
    "for i, feature in enumerate(list(df_train.drop(['id', 'target'], axis=1))):\n",
    "    if df_train[feature].isnull().sum() > 0:\n",
    "        df_train[feature].fillna(df_train[feature].mode()[0],inplace=True)\n",
    "\n",
    "for i, feature in enumerate(list(df_test.drop(['id'], axis=1))):\n",
    "    if df_test[feature].isnull().sum() > 0:\n",
    "        df_test[feature].fillna(df_test[feature].mode()[0],inplace=True)"
   ]
  },
  {
   "cell_type": "markdown",
   "metadata": {},
   "source": [
    "### Check if there are any missing values"
   ]
  },
  {
   "cell_type": "code",
   "execution_count": 42,
   "metadata": {},
   "outputs": [
    {
     "data": {
      "text/html": [
       "<div>\n",
       "<style>\n",
       "    .dataframe thead tr:only-child th {\n",
       "        text-align: right;\n",
       "    }\n",
       "\n",
       "    .dataframe thead th {\n",
       "        text-align: left;\n",
       "    }\n",
       "\n",
       "    .dataframe tbody tr th {\n",
       "        vertical-align: top;\n",
       "    }\n",
       "</style>\n",
       "<table border=\"1\" class=\"dataframe\">\n",
       "  <thead>\n",
       "    <tr style=\"text-align: right;\">\n",
       "      <th></th>\n",
       "      <th>feature</th>\n",
       "      <th>no_recoreds</th>\n",
       "      <th>percentage</th>\n",
       "    </tr>\n",
       "  </thead>\n",
       "  <tbody>\n",
       "  </tbody>\n",
       "</table>\n",
       "</div>"
      ],
      "text/plain": [
       "Empty DataFrame\n",
       "Columns: [feature, no_recoreds, percentage]\n",
       "Index: []"
      ]
     },
     "execution_count": 42,
     "metadata": {},
     "output_type": "execute_result"
    }
   ],
   "source": [
    "get_missing_features(df_train)\n",
    "get_missing_features(df_test)"
   ]
  },
  {
   "cell_type": "markdown",
   "metadata": {},
   "source": [
    "## Check category features of the dataset"
   ]
  },
  {
   "cell_type": "code",
   "execution_count": 40,
   "metadata": {},
   "outputs": [
    {
     "name": "stdout",
     "output_type": "stream",
     "text": [
      "ps_ind_02_cat has 4 unique values\n",
      "ps_ind_04_cat has 2 unique values\n",
      "ps_ind_05_cat has 7 unique values\n",
      "ps_car_01_cat has 12 unique values\n",
      "ps_car_02_cat has 2 unique values\n",
      "ps_car_03_cat has 2 unique values\n",
      "ps_car_04_cat has 10 unique values\n",
      "ps_car_05_cat has 2 unique values\n",
      "ps_car_06_cat has 18 unique values\n",
      "ps_car_07_cat has 2 unique values\n",
      "ps_car_08_cat has 2 unique values\n",
      "ps_car_09_cat has 5 unique values\n",
      "ps_car_10_cat has 3 unique values\n",
      "ps_car_11_cat has 104 unique values\n"
     ]
    }
   ],
   "source": [
    "cat_cols = [col for col in df_train.columns if '_cat' in col]\n",
    "dummed_cols = []\n",
    "\n",
    "for cat_col in cat_cols:\n",
    "    unique_values = len(np.unique(df_train[cat_col]))\n",
    "    if unique_values < 50:\n",
    "        dummed_cols.append(cat_col)\n",
    "    print('{} has {} unique values'.format(cat_col, unique_values))"
   ]
  },
  {
   "cell_type": "markdown",
   "metadata": {},
   "source": [
    "### Convert categorical variable into dummy variables"
   ]
  },
  {
   "cell_type": "code",
   "execution_count": 23,
   "metadata": {},
   "outputs": [
    {
     "name": "stdout",
     "output_type": "stream",
     "text": [
      "Train: before (595212, 39), after (595212, 97)\n",
      "Test: before (892816, 38), after (892816, 96)\n"
     ]
    }
   ],
   "source": [
    "for cat_feature in cat_cols:\n",
    "    df_train[cat_feature] = df_train[cat_feature].astype('uint8')\n",
    "    df_test[cat_feature] = df_test[cat_feature].astype('uint8') \n",
    "    \n",
    "df_train = pd.get_dummies(df_train, columns = dummed_cols)\n",
    "df_test = pd.get_dummies(df_test, columns = dummed_cols)\n",
    "\n",
    "print('Train: before {}, after {}'.format(df_train_shape_before, df_train.shape))\n",
    "print('Test: before {}, after {}'.format(df_test_shape_before, df_test.shape))"
   ]
  },
  {
   "cell_type": "markdown",
   "metadata": {},
   "source": [
    "## Handle outliers"
   ]
  },
  {
   "cell_type": "markdown",
   "metadata": {},
   "source": [
    "### 1. Detect outliers"
   ]
  },
  {
   "cell_type": "code",
   "execution_count": 24,
   "metadata": {
    "collapsed": true
   },
   "outputs": [],
   "source": [
    "from collections import Counter\n",
    "\n",
    "def detect_outlier(df):\n",
    "    features = df.columns\n",
    "    outliers  = []\n",
    "    for i, feature in enumerate(features):\n",
    "        if df[feature].dtype == 'float64':\n",
    "            # Calculate Q1 (25th percentile of the data) for the given feature\n",
    "            Q1 = np.percentile(df[feature], 25)\n",
    "            # Calculate Q3 (75th percentile of the data) for the given feature\n",
    "            Q3 = np.percentile(df[feature], 75)\n",
    "            # Use the interquartile range to calculate an outlier step\n",
    "            step = 1.5 * (Q3 - Q1)\n",
    "            feature_outliers = df[~((df[feature] >= Q1 - step) & (df[feature] <= Q3 + step))]\n",
    "            outliers.extend(list(feature_outliers.index.values))\n",
    "            print('Feature: {}, outliers: {}\\n'.format(feature, len(feature_outliers.index)))\n",
    "    \n",
    "    multi_feature_outliers = (Counter(outliers) - Counter(set(outliers))).keys()\n",
    "    return multi_feature_outliers"
   ]
  },
  {
   "cell_type": "code",
   "execution_count": 25,
   "metadata": {},
   "outputs": [
    {
     "name": "stdout",
     "output_type": "stream",
     "text": [
      "Feature: ps_reg_01, outliers: 0\n",
      "\n",
      "Feature: ps_reg_02, outliers: 36793\n",
      "\n",
      "Feature: ps_reg_03, outliers: 29363\n",
      "\n",
      "Feature: ps_car_11, outliers: 25983\n",
      "\n",
      "Feature: ps_car_12, outliers: 15355\n",
      "\n",
      "Feature: ps_car_13, outliers: 26913\n",
      "\n",
      "Feature: ps_car_14, outliers: 30420\n",
      "\n",
      "Feature: ps_car_15, outliers: 27409\n",
      "\n"
     ]
    }
   ],
   "source": [
    "outliers  = detect_outlier(df_train.drop(['id', 'target'], axis = 1))"
   ]
  },
  {
   "cell_type": "markdown",
   "metadata": {},
   "source": [
    "### 2. Remove outliers"
   ]
  },
  {
   "cell_type": "code",
   "execution_count": 27,
   "metadata": {},
   "outputs": [
    {
     "name": "stdout",
     "output_type": "stream",
     "text": [
      "Number of outliers occur more than one feature: 41446\n",
      "Shape of old data: (595212, 97)\n",
      "Shape of new data: (553766, 97)\n"
     ]
    }
   ],
   "source": [
    "good_data = df_train.drop(df_train.index[list(outliers)]).reset_index(drop = True)\n",
    "\n",
    "print('Number of outliers occur more than one feature: {}'.format(len(outliers)))\n",
    "print('Shape of old data: {}'.format(df_train.shape))\n",
    "print('Shape of new data: {}'.format(good_data.shape))"
   ]
  },
  {
   "cell_type": "code",
   "execution_count": 43,
   "metadata": {},
   "outputs": [
    {
     "name": "stdout",
     "output_type": "stream",
     "text": [
      "(595212, 39) (892816, 38)\n"
     ]
    }
   ],
   "source": [
    "print(df_train.shape, df_test.shape)"
   ]
  },
  {
   "cell_type": "markdown",
   "metadata": {},
   "source": [
    "## Split datasets into train and validation before fixing imbalance issue"
   ]
  },
  {
   "cell_type": "code",
   "execution_count": 47,
   "metadata": {},
   "outputs": [
    {
     "name": "stdout",
     "output_type": "stream",
     "text": [
      "Final shape of train data:(595212, 37)\n"
     ]
    }
   ],
   "source": [
    "# df_train = good_data\n",
    "X_im = df_train.drop(['id','target'], axis = 1)\n",
    "Y_im = df_train['target']\n",
    "\n",
    "x_train_im, x_val_im, y_train_im, y_val_im = train_test_split(X_im, Y_im,\n",
    "                                                  test_size = .3,\n",
    "                                                  random_state=random_state)\n",
    "print('Final shape of train data:{}'.format(X_im.shape))"
   ]
  },
  {
   "cell_type": "markdown",
   "metadata": {},
   "source": [
    "## Handling imbalanced classes"
   ]
  },
  {
   "cell_type": "markdown",
   "metadata": {},
   "source": [
    "### Plot class ratio"
   ]
  },
  {
   "cell_type": "code",
   "execution_count": 29,
   "metadata": {},
   "outputs": [
    {
     "data": {
      "image/png": "[encoded data removed]",
      "text/plain": [
       "<matplotlib.figure.Figure at 0x110b09d30>"
      ]
     },
     "metadata": {},
     "output_type": "display_data"
    }
   ],
   "source": [
    "# Distribution of target variable\n",
    "def plot_class_balace(train, val):\n",
    "    train_aa = dict(Counter(train))\n",
    "    val_aa = dict(Counter(val))\n",
    "    \n",
    "    plt.figure(figsize=(10, 4))\n",
    "    plt.subplot(121)\n",
    "    plt.bar([0, 1], height= [train_aa[0],train_aa[1]])\n",
    "    plt.xticks([0, 1]);\n",
    "    plt.xlabel('Class')\n",
    "    plt.ylabel('Number of data points')\n",
    "    plt.title('Train positive class {}%\\n:'.format(round(train_aa[1]*100/train_aa[0], 2)))\n",
    "    \n",
    "    plt.subplot(122)\n",
    "    plt.bar([0, 1], height= [val_aa[0],val_aa[1]])\n",
    "    plt.xticks([0, 1]);\n",
    "    plt.xlabel('Class')\n",
    "    plt.title('Valid pos class {}%\\n:'.format(round(val_aa[1]*100/val_aa[0], 2)))\n",
    "    plt.tight_layout()\n",
    "    plt.show()\n",
    "\n",
    "plot_class_balace(y_train_im, y_val_im)"
   ]
  },
  {
   "cell_type": "markdown",
   "metadata": {},
   "source": [
    "### Upsampling positive class using the SMOTE algorithom"
   ]
  },
  {
   "cell_type": "code",
   "execution_count": 30,
   "metadata": {},
   "outputs": [
    {
     "name": "stdout",
     "output_type": "stream",
     "text": [
      "Original train shape Counter({0: 374161, 1: 13475})\n",
      "Original validation shape Counter({0: 160251, 1: 5879})\n"
     ]
    },
    {
     "data": {
      "image/png": "[encoded data removed]",
      "text/plain": [
       "<matplotlib.figure.Figure at 0x10f06e940>"
      ]
     },
     "metadata": {},
     "output_type": "display_data"
    }
   ],
   "source": [
    "from imblearn.over_sampling import SMOTE \n",
    "from collections import Counter\n",
    "\n",
    "sm = SMOTE(ratio = 0.30, random_state = random_state, k_neighbors=5)\n",
    "\n",
    "print('Original train shape {}'.format(Counter(y_train_im)))\n",
    "print('Original validation shape {}'.format(Counter(y_val_im)))\n",
    "\n",
    "X_train_ba, Y_train_ba = sm.fit_sample(x_train_im, y_train_im)\n",
    "X_val_ba, Y_val_ba = sm.fit_sample(x_val_im, y_val_im)\n",
    "\n",
    "plot_class_balace(Y_train_ba, Y_val_ba)"
   ]
  },
  {
   "cell_type": "markdown",
   "metadata": {},
   "source": [
    "## Feature scaling"
   ]
  },
  {
   "cell_type": "code",
   "execution_count": 48,
   "metadata": {},
   "outputs": [],
   "source": [
    "X_train, Y_train = shuffle(x_train_im, y_train_im, random_state = random_state)\n",
    "X_val, Y_val = shuffle(x_val_im, y_val_im, random_state = random_state)\n",
    "\n",
    "mms = StandardScaler()\n",
    "X_train = mms.fit_transform(X_train)\n",
    "X_val = mms.fit_transform(X_val)"
   ]
  },
  {
   "cell_type": "markdown",
   "metadata": {},
   "source": [
    "### Gini coeficient "
   ]
  },
  {
   "cell_type": "code",
   "execution_count": 49,
   "metadata": {
    "collapsed": true
   },
   "outputs": [],
   "source": [
    "# from https://www.kaggle.com/mashavasilenko/\n",
    "# porto-seguro-xgb-modeling-and-parameters-tuning\n",
    "\n",
    "def gini(y, pred):\n",
    "    g = np.asarray(np.c_[y, pred, np.arange(len(y)) ], dtype=np.float)\n",
    "    g = g[np.lexsort((g[:,2], -1*g[:,1]))]\n",
    "    gs = g[:,0].cumsum().sum() / g[:,0].sum()\n",
    "    gs -= (len(y) + 1) / 2.\n",
    "    return gs / len(y)\n",
    "\n",
    "def gini_xgb(pred, y):\n",
    "    y = y.get_label()\n",
    "    return 'gini', gini(y, pred) / gini(y, y)\n",
    "\n",
    "def gini_normalized(a, p):\n",
    "    return gini(a, p) / gini(a, a)\n",
    "\n",
    "# def gini_xgb(preds, dtrain):\n",
    "#     labels = dtrain.get_label()\n",
    "#     gini_score = gini_normalized(labels, preds)\n",
    "#     return [('gini', gini_score)]"
   ]
  },
  {
   "cell_type": "markdown",
   "metadata": {},
   "source": [
    "## Model building using XGB"
   ]
  },
  {
   "cell_type": "code",
   "execution_count": 50,
   "metadata": {
    "collapsed": true
   },
   "outputs": [],
   "source": [
    "import xgboost as xgb\n",
    "from xgboost import XGBClassifier\n",
    "from sklearn.metrics import f1_score"
   ]
  },
  {
   "cell_type": "code",
   "execution_count": 51,
   "metadata": {
    "scrolled": true
   },
   "outputs": [
    {
     "name": "stdout",
     "output_type": "stream",
     "text": [
      "[0]\tvalidation_0-error:0.036534\tvalidation_1-error:0.036245\tvalidation_0-gini:0.182845\tvalidation_1-gini:0.185709\n",
      "Multiple eval metrics have been passed: 'validation_1-gini' will be used for early stopping.\n",
      "\n",
      "Will train until validation_1-gini hasn't improved in 80 rounds.\n",
      "[1]\tvalidation_0-error:0.036534\tvalidation_1-error:0.036245\tvalidation_0-gini:0.222038\tvalidation_1-gini:0.220611\n",
      "[2]\tvalidation_0-error:0.036534\tvalidation_1-error:0.036245\tvalidation_0-gini:0.231984\tvalidation_1-gini:0.22852\n",
      "[3]\tvalidation_0-error:0.036534\tvalidation_1-error:0.036245\tvalidation_0-gini:0.241303\tvalidation_1-gini:0.238063\n",
      "[4]\tvalidation_0-error:0.036534\tvalidation_1-error:0.036245\tvalidation_0-gini:0.247891\tvalidation_1-gini:0.247603\n",
      "[5]\tvalidation_0-error:0.036534\tvalidation_1-error:0.036245\tvalidation_0-gini:0.252256\tvalidation_1-gini:0.249354\n",
      "[6]\tvalidation_0-error:0.036534\tvalidation_1-error:0.036245\tvalidation_0-gini:0.252372\tvalidation_1-gini:0.247447\n",
      "[7]\tvalidation_0-error:0.036534\tvalidation_1-error:0.036245\tvalidation_0-gini:0.25064\tvalidation_1-gini:0.245994\n",
      "[8]\tvalidation_0-error:0.036534\tvalidation_1-error:0.036245\tvalidation_0-gini:0.251572\tvalidation_1-gini:0.248303\n",
      "[9]\tvalidation_0-error:0.036534\tvalidation_1-error:0.036245\tvalidation_0-gini:0.254608\tvalidation_1-gini:0.253151\n",
      "[10]\tvalidation_0-error:0.036534\tvalidation_1-error:0.036245\tvalidation_0-gini:0.256896\tvalidation_1-gini:0.256899\n",
      "[11]\tvalidation_0-error:0.036534\tvalidation_1-error:0.036245\tvalidation_0-gini:0.258029\tvalidation_1-gini:0.256268\n",
      "[12]\tvalidation_0-error:0.036534\tvalidation_1-error:0.036245\tvalidation_0-gini:0.2589\tvalidation_1-gini:0.257368\n",
      "[13]\tvalidation_0-error:0.036534\tvalidation_1-error:0.036245\tvalidation_0-gini:0.262373\tvalidation_1-gini:0.259086\n",
      "[14]\tvalidation_0-error:0.036534\tvalidation_1-error:0.036245\tvalidation_0-gini:0.261758\tvalidation_1-gini:0.258535\n",
      "[15]\tvalidation_0-error:0.036534\tvalidation_1-error:0.036245\tvalidation_0-gini:0.263271\tvalidation_1-gini:0.258479\n",
      "[16]\tvalidation_0-error:0.036534\tvalidation_1-error:0.036245\tvalidation_0-gini:0.264132\tvalidation_1-gini:0.259773\n",
      "[17]\tvalidation_0-error:0.036534\tvalidation_1-error:0.036245\tvalidation_0-gini:0.265517\tvalidation_1-gini:0.260682\n",
      "[18]\tvalidation_0-error:0.036534\tvalidation_1-error:0.036245\tvalidation_0-gini:0.268106\tvalidation_1-gini:0.261793\n",
      "[19]\tvalidation_0-error:0.036534\tvalidation_1-error:0.036245\tvalidation_0-gini:0.269065\tvalidation_1-gini:0.261061\n",
      "[20]\tvalidation_0-error:0.036534\tvalidation_1-error:0.036245\tvalidation_0-gini:0.269708\tvalidation_1-gini:0.260851\n",
      "[21]\tvalidation_0-error:0.036534\tvalidation_1-error:0.036245\tvalidation_0-gini:0.271063\tvalidation_1-gini:0.263097\n",
      "[22]\tvalidation_0-error:0.036534\tvalidation_1-error:0.036245\tvalidation_0-gini:0.271316\tvalidation_1-gini:0.262511\n",
      "[23]\tvalidation_0-error:0.036534\tvalidation_1-error:0.036245\tvalidation_0-gini:0.271824\tvalidation_1-gini:0.261666\n",
      "[24]\tvalidation_0-error:0.036534\tvalidation_1-error:0.036245\tvalidation_0-gini:0.272276\tvalidation_1-gini:0.262543\n",
      "[25]\tvalidation_0-error:0.036534\tvalidation_1-error:0.036245\tvalidation_0-gini:0.272634\tvalidation_1-gini:0.261982\n",
      "[26]\tvalidation_0-error:0.036534\tvalidation_1-error:0.036245\tvalidation_0-gini:0.272269\tvalidation_1-gini:0.261572\n",
      "[27]\tvalidation_0-error:0.036534\tvalidation_1-error:0.036245\tvalidation_0-gini:0.273271\tvalidation_1-gini:0.261847\n",
      "[28]\tvalidation_0-error:0.036534\tvalidation_1-error:0.036245\tvalidation_0-gini:0.274874\tvalidation_1-gini:0.263364\n",
      "[29]\tvalidation_0-error:0.036534\tvalidation_1-error:0.036245\tvalidation_0-gini:0.274945\tvalidation_1-gini:0.262607\n",
      "[30]\tvalidation_0-error:0.036534\tvalidation_1-error:0.036245\tvalidation_0-gini:0.275013\tvalidation_1-gini:0.262135\n",
      "[31]\tvalidation_0-error:0.036534\tvalidation_1-error:0.036245\tvalidation_0-gini:0.275361\tvalidation_1-gini:0.263182\n",
      "[32]\tvalidation_0-error:0.036534\tvalidation_1-error:0.036245\tvalidation_0-gini:0.276822\tvalidation_1-gini:0.263858\n",
      "[33]\tvalidation_0-error:0.036534\tvalidation_1-error:0.036245\tvalidation_0-gini:0.27692\tvalidation_1-gini:0.263602\n",
      "[34]\tvalidation_0-error:0.036534\tvalidation_1-error:0.036245\tvalidation_0-gini:0.276863\tvalidation_1-gini:0.263298\n",
      "[35]\tvalidation_0-error:0.036534\tvalidation_1-error:0.036245\tvalidation_0-gini:0.278469\tvalidation_1-gini:0.264277\n",
      "[36]\tvalidation_0-error:0.036534\tvalidation_1-error:0.036245\tvalidation_0-gini:0.279001\tvalidation_1-gini:0.264244\n",
      "[37]\tvalidation_0-error:0.036534\tvalidation_1-error:0.036245\tvalidation_0-gini:0.279222\tvalidation_1-gini:0.264726\n",
      "[38]\tvalidation_0-error:0.036534\tvalidation_1-error:0.036245\tvalidation_0-gini:0.280131\tvalidation_1-gini:0.264149\n",
      "[39]\tvalidation_0-error:0.036534\tvalidation_1-error:0.036245\tvalidation_0-gini:0.280192\tvalidation_1-gini:0.264556\n",
      "[40]\tvalidation_0-error:0.036534\tvalidation_1-error:0.036245\tvalidation_0-gini:0.280088\tvalidation_1-gini:0.26459\n",
      "[41]\tvalidation_0-error:0.036534\tvalidation_1-error:0.036245\tvalidation_0-gini:0.280088\tvalidation_1-gini:0.263919\n",
      "[42]\tvalidation_0-error:0.036534\tvalidation_1-error:0.036245\tvalidation_0-gini:0.280298\tvalidation_1-gini:0.264625\n",
      "[43]\tvalidation_0-error:0.036534\tvalidation_1-error:0.036245\tvalidation_0-gini:0.28081\tvalidation_1-gini:0.264264\n",
      "[44]\tvalidation_0-error:0.036534\tvalidation_1-error:0.036245\tvalidation_0-gini:0.281067\tvalidation_1-gini:0.264304\n",
      "[45]\tvalidation_0-error:0.036534\tvalidation_1-error:0.036245\tvalidation_0-gini:0.281174\tvalidation_1-gini:0.264343\n",
      "[46]\tvalidation_0-error:0.036534\tvalidation_1-error:0.036245\tvalidation_0-gini:0.282005\tvalidation_1-gini:0.26514\n",
      "[47]\tvalidation_0-error:0.036534\tvalidation_1-error:0.036245\tvalidation_0-gini:0.282255\tvalidation_1-gini:0.265544\n",
      "[48]\tvalidation_0-error:0.036534\tvalidation_1-error:0.036245\tvalidation_0-gini:0.281987\tvalidation_1-gini:0.265212\n",
      "[49]\tvalidation_0-error:0.036534\tvalidation_1-error:0.036245\tvalidation_0-gini:0.282009\tvalidation_1-gini:0.265332\n",
      "[50]\tvalidation_0-error:0.036534\tvalidation_1-error:0.036245\tvalidation_0-gini:0.282507\tvalidation_1-gini:0.265498\n",
      "[51]\tvalidation_0-error:0.036534\tvalidation_1-error:0.036245\tvalidation_0-gini:0.282347\tvalidation_1-gini:0.264766\n",
      "[52]\tvalidation_0-error:0.036534\tvalidation_1-error:0.036245\tvalidation_0-gini:0.28264\tvalidation_1-gini:0.265047\n",
      "[53]\tvalidation_0-error:0.036534\tvalidation_1-error:0.036245\tvalidation_0-gini:0.282791\tvalidation_1-gini:0.264667\n",
      "[54]\tvalidation_0-error:0.036534\tvalidation_1-error:0.036245\tvalidation_0-gini:0.283257\tvalidation_1-gini:0.265001\n",
      "[55]\tvalidation_0-error:0.036534\tvalidation_1-error:0.036245\tvalidation_0-gini:0.283636\tvalidation_1-gini:0.265207\n",
      "[56]\tvalidation_0-error:0.036534\tvalidation_1-error:0.036245\tvalidation_0-gini:0.284035\tvalidation_1-gini:0.265349\n",
      "[57]\tvalidation_0-error:0.036534\tvalidation_1-error:0.036245\tvalidation_0-gini:0.284344\tvalidation_1-gini:0.265568\n",
      "[58]\tvalidation_0-error:0.036534\tvalidation_1-error:0.036245\tvalidation_0-gini:0.285158\tvalidation_1-gini:0.26567\n",
      "[59]\tvalidation_0-error:0.036534\tvalidation_1-error:0.036245\tvalidation_0-gini:0.284868\tvalidation_1-gini:0.265248\n",
      "[60]\tvalidation_0-error:0.036534\tvalidation_1-error:0.036245\tvalidation_0-gini:0.285139\tvalidation_1-gini:0.265512\n",
      "[61]\tvalidation_0-error:0.036534\tvalidation_1-error:0.036245\tvalidation_0-gini:0.284612\tvalidation_1-gini:0.265116\n",
      "[62]\tvalidation_0-error:0.036534\tvalidation_1-error:0.036245\tvalidation_0-gini:0.285218\tvalidation_1-gini:0.265412\n",
      "[63]\tvalidation_0-error:0.036534\tvalidation_1-error:0.036245\tvalidation_0-gini:0.28551\tvalidation_1-gini:0.265483\n",
      "[64]\tvalidation_0-error:0.036534\tvalidation_1-error:0.036245\tvalidation_0-gini:0.285418\tvalidation_1-gini:0.265403\n",
      "[65]\tvalidation_0-error:0.036534\tvalidation_1-error:0.036245\tvalidation_0-gini:0.286096\tvalidation_1-gini:0.265958\n",
      "[66]\tvalidation_0-error:0.036534\tvalidation_1-error:0.036245\tvalidation_0-gini:0.286376\tvalidation_1-gini:0.266071\n",
      "[67]\tvalidation_0-error:0.036534\tvalidation_1-error:0.036245\tvalidation_0-gini:0.285917\tvalidation_1-gini:0.266026\n",
      "[68]\tvalidation_0-error:0.036534\tvalidation_1-error:0.036245\tvalidation_0-gini:0.286323\tvalidation_1-gini:0.266289\n",
      "[69]\tvalidation_0-error:0.036534\tvalidation_1-error:0.036245\tvalidation_0-gini:0.286515\tvalidation_1-gini:0.26665\n",
      "[70]\tvalidation_0-error:0.036534\tvalidation_1-error:0.036245\tvalidation_0-gini:0.286482\tvalidation_1-gini:0.266288\n"
     ]
    },
    {
     "name": "stdout",
     "output_type": "stream",
     "text": [
      "[71]\tvalidation_0-error:0.036534\tvalidation_1-error:0.036245\tvalidation_0-gini:0.287154\tvalidation_1-gini:0.266747\n",
      "[72]\tvalidation_0-error:0.036534\tvalidation_1-error:0.036245\tvalidation_0-gini:0.287854\tvalidation_1-gini:0.267116\n",
      "[73]\tvalidation_0-error:0.036534\tvalidation_1-error:0.036245\tvalidation_0-gini:0.288524\tvalidation_1-gini:0.267944\n",
      "[74]\tvalidation_0-error:0.036534\tvalidation_1-error:0.036245\tvalidation_0-gini:0.289495\tvalidation_1-gini:0.268289\n",
      "[75]\tvalidation_0-error:0.036534\tvalidation_1-error:0.036245\tvalidation_0-gini:0.289387\tvalidation_1-gini:0.268095\n",
      "[76]\tvalidation_0-error:0.036534\tvalidation_1-error:0.036245\tvalidation_0-gini:0.289447\tvalidation_1-gini:0.268085\n",
      "[77]\tvalidation_0-error:0.036534\tvalidation_1-error:0.036245\tvalidation_0-gini:0.289634\tvalidation_1-gini:0.268451\n",
      "[78]\tvalidation_0-error:0.036534\tvalidation_1-error:0.036245\tvalidation_0-gini:0.290372\tvalidation_1-gini:0.268894\n",
      "[79]\tvalidation_0-error:0.036534\tvalidation_1-error:0.036245\tvalidation_0-gini:0.290738\tvalidation_1-gini:0.26923\n",
      "[80]\tvalidation_0-error:0.036534\tvalidation_1-error:0.036245\tvalidation_0-gini:0.291221\tvalidation_1-gini:0.269661\n",
      "Stopping. Best iteration:\n",
      "[0]\tvalidation_0-error:0.036534\tvalidation_1-error:0.036245\tvalidation_0-gini:0.182845\tvalidation_1-gini:0.185709\n",
      "\n"
     ]
    },
    {
     "data": {
      "text/plain": [
       "XGBClassifier(base_score=0.5, booster='gbtree', colsample_bylevel=1,\n",
       "       colsample_bytree=0.3, gamma=0, learning_rate=0.02, max_delta_step=0,\n",
       "       max_depth=6, min_child_weight=1, missing=None, n_estimators=100,\n",
       "       n_jobs=-1, nthread=None, objective='binary:logistic',\n",
       "       random_state=6, reg_alpha=0, reg_lambda=1, scale_pos_weight=1,\n",
       "       seed=None, silent=True, subsample=1.0)"
      ]
     },
     "execution_count": 51,
     "metadata": {},
     "output_type": "execute_result"
    }
   ],
   "source": [
    "model = model = XGBClassifier(\n",
    "              learning_rate = 0.02,\n",
    "              n_estimators=100,\n",
    "              max_depth  = 6, \n",
    "              subsample = 1.0, \n",
    "              colsample_bytree = 0.3,\n",
    "              min_child_weight = 1,\n",
    "              random_state = random_state,\n",
    "              n_jobs = -1,\n",
    "              silent = True)\n",
    "eval_set = [(X_train, Y_train), (X_val, Y_val)]\n",
    "model.fit(X_train, Y_train, eval_set= eval_set, \n",
    "          eval_metric= gini_xgb, early_stopping_rounds= 80, verbose=True)"
   ]
  },
  {
   "cell_type": "code",
   "execution_count": 54,
   "metadata": {},
   "outputs": [
    {
     "data": {
      "image/png": "[encoded data removed]",
      "text/plain": [
       "<matplotlib.figure.Figure at 0x10b006588>"
      ]
     },
     "metadata": {},
     "output_type": "display_data"
    }
   ],
   "source": [
    "results = model.evals_result()\n",
    "metric = 'gini'\n",
    "epochs = len(results['validation_0'][metric])\n",
    "x_axis = range(0, epochs)\n",
    "\n",
    "plt.plot(x_axis, results['validation_0'][metric], label='Train')\n",
    "plt.plot(x_axis, results['validation_1'][metric], label='Validation')\n",
    "plt.legend()\n",
    "plt.ylabel(metric)\n",
    "plt.title('XGBoost ' +metric+  ' score')\n",
    "plt.show()"
   ]
  },
  {
   "cell_type": "markdown",
   "metadata": {},
   "source": [
    "### prepare test datasets"
   ]
  },
  {
   "cell_type": "code",
   "execution_count": 55,
   "metadata": {
    "collapsed": true
   },
   "outputs": [],
   "source": [
    "x_test = df_test.drop(['id'], axis = 1)\n",
    "x_test_final = mms.fit_transform(x_test)"
   ]
  },
  {
   "cell_type": "code",
   "execution_count": 56,
   "metadata": {},
   "outputs": [
    {
     "name": "stdout",
     "output_type": "stream",
     "text": [
      "[[ 0.87969083  0.12030916]\n",
      " [ 0.87768006  0.12231991]\n",
      " [ 0.87351024  0.12648973]\n",
      " [ 0.88322574  0.11677425]\n",
      " [ 0.87271023  0.12728974]\n",
      " [ 0.87088424  0.12911578]\n",
      " [ 0.87477052  0.12522948]\n",
      " [ 0.87266314  0.12733683]\n",
      " [ 0.86234498  0.137655  ]\n",
      " [ 0.86159289  0.13840711]]\n",
      "          prediction\n",
      "count  892816.000000\n",
      "mean        0.127566\n",
      "std         0.008264\n",
      "min         0.114144\n",
      "25%         0.121766\n",
      "50%         0.126044\n",
      "75%         0.131350\n",
      "max         0.271506\n"
     ]
    }
   ],
   "source": [
    "xgb_pred = model.predict_proba(x_test_final)\n",
    "print(xgb_pred[0:10])\n",
    "output = pd.DataFrame({'prediction': xgb_pred[:, 1]})\n",
    "print(output.describe())\n",
    "id_test = df_test['id'].values\n",
    "output = pd.DataFrame({'id': id_test, 'target': xgb_pred[:, 1]})\n",
    "output.to_csv('xgb_submit.csv', float_format='%.6f', index=False)"
   ]
  },
  {
   "cell_type": "code",
   "execution_count": 75,
   "metadata": {},
   "outputs": [
    {
     "name": "stdout",
     "output_type": "stream",
     "text": [
      "(892816, 2)\n",
      "[0 1]\n",
      "[ 0.99883717  0.99903023  0.99903166  0.99891567  0.99868542  0.99909699\n",
      "  0.99866033  0.99876595  0.9989385   0.99854505  0.99906009  0.998869\n",
      "  0.99841285  0.99830449  0.99906296  0.99906129  0.99900889  0.99916077\n",
      "  0.99901509  0.99867946]\n"
     ]
    }
   ],
   "source": [
    "print(xgb_pred.shape)\n",
    "print(model.classes_)\n",
    "print(xgb_pred[:20, 1])"
   ]
  },
  {
   "cell_type": "code",
   "execution_count": 76,
   "metadata": {},
   "outputs": [
    {
     "data": {
      "text/html": [
       "<div>\n",
       "<style>\n",
       "    .dataframe thead tr:only-child th {\n",
       "        text-align: right;\n",
       "    }\n",
       "\n",
       "    .dataframe thead th {\n",
       "        text-align: left;\n",
       "    }\n",
       "\n",
       "    .dataframe tbody tr th {\n",
       "        vertical-align: top;\n",
       "    }\n",
       "</style>\n",
       "<table border=\"1\" class=\"dataframe\">\n",
       "  <thead>\n",
       "    <tr style=\"text-align: right;\">\n",
       "      <th></th>\n",
       "      <th>id</th>\n",
       "      <th>target</th>\n",
       "    </tr>\n",
       "  </thead>\n",
       "  <tbody>\n",
       "    <tr>\n",
       "      <th>count</th>\n",
       "      <td>8.928160e+05</td>\n",
       "      <td>892816.000000</td>\n",
       "    </tr>\n",
       "    <tr>\n",
       "      <th>mean</th>\n",
       "      <td>7.441535e+05</td>\n",
       "      <td>0.998776</td>\n",
       "    </tr>\n",
       "    <tr>\n",
       "      <th>std</th>\n",
       "      <td>4.296830e+05</td>\n",
       "      <td>0.000309</td>\n",
       "    </tr>\n",
       "    <tr>\n",
       "      <th>min</th>\n",
       "      <td>0.000000e+00</td>\n",
       "      <td>0.996685</td>\n",
       "    </tr>\n",
       "    <tr>\n",
       "      <th>25%</th>\n",
       "      <td>3.720218e+05</td>\n",
       "      <td>0.998614</td>\n",
       "    </tr>\n",
       "    <tr>\n",
       "      <th>50%</th>\n",
       "      <td>7.443070e+05</td>\n",
       "      <td>0.998863</td>\n",
       "    </tr>\n",
       "    <tr>\n",
       "      <th>75%</th>\n",
       "      <td>1.116308e+06</td>\n",
       "      <td>0.999001</td>\n",
       "    </tr>\n",
       "    <tr>\n",
       "      <th>max</th>\n",
       "      <td>1.488026e+06</td>\n",
       "      <td>0.999346</td>\n",
       "    </tr>\n",
       "  </tbody>\n",
       "</table>\n",
       "</div>"
      ],
      "text/plain": [
       "                 id         target\n",
       "count  8.928160e+05  892816.000000\n",
       "mean   7.441535e+05       0.998776\n",
       "std    4.296830e+05       0.000309\n",
       "min    0.000000e+00       0.996685\n",
       "25%    3.720218e+05       0.998614\n",
       "50%    7.443070e+05       0.998863\n",
       "75%    1.116308e+06       0.999001\n",
       "max    1.488026e+06       0.999346"
      ]
     },
     "execution_count": 76,
     "metadata": {},
     "output_type": "execute_result"
    }
   ],
   "source": [
    "output.describe()"
   ]
  },
  {
   "cell_type": "code",
   "execution_count": null,
   "metadata": {
    "collapsed": true
   },
   "outputs": [],
   "source": []
  }
 ],
 "metadata": {
  "kernelspec": {
   "display_name": "Python 3",
   "language": "python",
   "name": "python3"
  },
  "language_info": {
   "codemirror_mode": {
    "name": "ipython",
    "version": 3
   },
   "file_extension": ".py",
   "mimetype": "text/x-python",
   "name": "python",
   "nbconvert_exporter": "python",
   "pygments_lexer": "ipython3",
   "version": "3.6.1"
  }
 },
 "nbformat": 4,
 "nbformat_minor": 2
}
