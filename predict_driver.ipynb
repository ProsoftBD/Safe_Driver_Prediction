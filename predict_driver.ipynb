{
 "cells": [
  {
   "cell_type": "code",
   "execution_count": 32,
   "metadata": {
    "collapsed": true
   },
   "outputs": [],
   "source": [
    "import numpy as np\n",
    "import pandas as pd\n",
    "import warnings\n",
    "import matplotlib.pyplot as plt\n",
    "from sklearn.utils import shuffle\n",
    "from sklearn.preprocessing import StandardScaler\n",
    "from sklearn.model_selection import train_test_split\n",
    "\n",
    "from sklearn.model_selection import KFold\n",
    "from sklearn.preprocessing import LabelEncoder\n",
    "from sklearn.model_selection import cross_val_score\n",
    "\n",
    "from xgboost import XGBClassifier\n",
    "from lightgbm import LGBMClassifier\n",
    "from sklearn.linear_model import LogisticRegression\n",
    "\n",
    "import time\n",
    "\n",
    "random_state = 6\n",
    "np.random.seed(random_state)\n",
    "warnings.filterwarnings('ignore')"
   ]
  },
  {
   "cell_type": "code",
   "execution_count": 2,
   "metadata": {
    "collapsed": true
   },
   "outputs": [],
   "source": [
    "%matplotlib inline\n",
    "get_ipython().run_line_magic('matplotlib', 'inline')\n",
    "\n",
    "# latex parameter\n",
    "font = {\n",
    "    'family': 'serif', \n",
    "    'serif': ['Computer Modern Roman'],\n",
    "    'weight' : 'regular',\n",
    "    'size'   : 18\n",
    "    }\n",
    "\n",
    "plt.rc('font', **font)\n",
    "plt.rc('text', usetex=False)\n",
    "# plt.style.use('classic')\n",
    "\n",
    "color_map = 'viridis'"
   ]
  },
  {
   "cell_type": "code",
   "execution_count": 3,
   "metadata": {
    "collapsed": true
   },
   "outputs": [],
   "source": [
    "df_train = pd.read_csv('train.csv',na_values=-1)\n",
    "df_test = pd.read_csv('test.csv',na_values=-1)"
   ]
  },
  {
   "cell_type": "markdown",
   "metadata": {},
   "source": [
    "### Check if both test and train have the same shape"
   ]
  },
  {
   "cell_type": "code",
   "execution_count": 44,
   "metadata": {},
   "outputs": [
    {
     "name": "stdout",
     "output_type": "stream",
     "text": [
      "Training data shape: (595212, 59)\n",
      "Training data shape: (892816, 58)\n"
     ]
    }
   ],
   "source": [
    "print('Training data shape: {}'.format(df_train.shape))\n",
    "print('Training data shape: {}'.format(df_test.shape))"
   ]
  },
  {
   "cell_type": "markdown",
   "metadata": {},
   "source": [
    "### Check if there are any missing values"
   ]
  },
  {
   "cell_type": "code",
   "execution_count": 45,
   "metadata": {},
   "outputs": [
    {
     "name": "stdout",
     "output_type": "stream",
     "text": [
      "Is null on train: True\n",
      "Is null on test: True\n"
     ]
    }
   ],
   "source": [
    "print('Is null on train: {}'.format(df_train.isnull().any().any()))\n",
    "print('Is null on test: {}'.format(df_test.isnull().any().any()))"
   ]
  },
  {
   "cell_type": "markdown",
   "metadata": {},
   "source": [
    "### Descriptive statistics"
   ]
  },
  {
   "cell_type": "code",
   "execution_count": 6,
   "metadata": {},
   "outputs": [
    {
     "data": {
      "text/html": [
       "<div>\n",
       "<style>\n",
       "    .dataframe thead tr:only-child th {\n",
       "        text-align: right;\n",
       "    }\n",
       "\n",
       "    .dataframe thead th {\n",
       "        text-align: left;\n",
       "    }\n",
       "\n",
       "    .dataframe tbody tr th {\n",
       "        vertical-align: top;\n",
       "    }\n",
       "</style>\n",
       "<table border=\"1\" class=\"dataframe\">\n",
       "  <thead>\n",
       "    <tr style=\"text-align: right;\">\n",
       "      <th></th>\n",
       "      <th>id</th>\n",
       "      <th>target</th>\n",
       "      <th>ps_ind_01</th>\n",
       "      <th>ps_ind_02_cat</th>\n",
       "      <th>ps_ind_03</th>\n",
       "      <th>ps_ind_04_cat</th>\n",
       "      <th>ps_ind_05_cat</th>\n",
       "      <th>ps_ind_06_bin</th>\n",
       "      <th>ps_ind_07_bin</th>\n",
       "      <th>ps_ind_08_bin</th>\n",
       "      <th>...</th>\n",
       "      <th>ps_calc_11</th>\n",
       "      <th>ps_calc_12</th>\n",
       "      <th>ps_calc_13</th>\n",
       "      <th>ps_calc_14</th>\n",
       "      <th>ps_calc_15_bin</th>\n",
       "      <th>ps_calc_16_bin</th>\n",
       "      <th>ps_calc_17_bin</th>\n",
       "      <th>ps_calc_18_bin</th>\n",
       "      <th>ps_calc_19_bin</th>\n",
       "      <th>ps_calc_20_bin</th>\n",
       "    </tr>\n",
       "  </thead>\n",
       "  <tbody>\n",
       "    <tr>\n",
       "      <th>count</th>\n",
       "      <td>5.952120e+05</td>\n",
       "      <td>595212.000000</td>\n",
       "      <td>595212.000000</td>\n",
       "      <td>594996.000000</td>\n",
       "      <td>595212.000000</td>\n",
       "      <td>595129.000000</td>\n",
       "      <td>589403.000000</td>\n",
       "      <td>595212.000000</td>\n",
       "      <td>595212.000000</td>\n",
       "      <td>595212.000000</td>\n",
       "      <td>...</td>\n",
       "      <td>595212.000000</td>\n",
       "      <td>595212.000000</td>\n",
       "      <td>595212.000000</td>\n",
       "      <td>595212.000000</td>\n",
       "      <td>595212.000000</td>\n",
       "      <td>595212.000000</td>\n",
       "      <td>595212.000000</td>\n",
       "      <td>595212.000000</td>\n",
       "      <td>595212.000000</td>\n",
       "      <td>595212.000000</td>\n",
       "    </tr>\n",
       "    <tr>\n",
       "      <th>mean</th>\n",
       "      <td>7.438036e+05</td>\n",
       "      <td>0.036448</td>\n",
       "      <td>1.900378</td>\n",
       "      <td>1.359799</td>\n",
       "      <td>4.423318</td>\n",
       "      <td>0.416992</td>\n",
       "      <td>0.419038</td>\n",
       "      <td>0.393742</td>\n",
       "      <td>0.257033</td>\n",
       "      <td>0.163921</td>\n",
       "      <td>...</td>\n",
       "      <td>5.441382</td>\n",
       "      <td>1.441918</td>\n",
       "      <td>2.872288</td>\n",
       "      <td>7.539026</td>\n",
       "      <td>0.122427</td>\n",
       "      <td>0.627840</td>\n",
       "      <td>0.554182</td>\n",
       "      <td>0.287182</td>\n",
       "      <td>0.349024</td>\n",
       "      <td>0.153318</td>\n",
       "    </tr>\n",
       "    <tr>\n",
       "      <th>std</th>\n",
       "      <td>4.293678e+05</td>\n",
       "      <td>0.187401</td>\n",
       "      <td>1.983789</td>\n",
       "      <td>0.663193</td>\n",
       "      <td>2.699902</td>\n",
       "      <td>0.493062</td>\n",
       "      <td>1.350023</td>\n",
       "      <td>0.488579</td>\n",
       "      <td>0.436998</td>\n",
       "      <td>0.370205</td>\n",
       "      <td>...</td>\n",
       "      <td>2.332871</td>\n",
       "      <td>1.202963</td>\n",
       "      <td>1.694887</td>\n",
       "      <td>2.746652</td>\n",
       "      <td>0.327779</td>\n",
       "      <td>0.483381</td>\n",
       "      <td>0.497056</td>\n",
       "      <td>0.452447</td>\n",
       "      <td>0.476662</td>\n",
       "      <td>0.360295</td>\n",
       "    </tr>\n",
       "    <tr>\n",
       "      <th>min</th>\n",
       "      <td>7.000000e+00</td>\n",
       "      <td>0.000000</td>\n",
       "      <td>0.000000</td>\n",
       "      <td>1.000000</td>\n",
       "      <td>0.000000</td>\n",
       "      <td>0.000000</td>\n",
       "      <td>0.000000</td>\n",
       "      <td>0.000000</td>\n",
       "      <td>0.000000</td>\n",
       "      <td>0.000000</td>\n",
       "      <td>...</td>\n",
       "      <td>0.000000</td>\n",
       "      <td>0.000000</td>\n",
       "      <td>0.000000</td>\n",
       "      <td>0.000000</td>\n",
       "      <td>0.000000</td>\n",
       "      <td>0.000000</td>\n",
       "      <td>0.000000</td>\n",
       "      <td>0.000000</td>\n",
       "      <td>0.000000</td>\n",
       "      <td>0.000000</td>\n",
       "    </tr>\n",
       "    <tr>\n",
       "      <th>25%</th>\n",
       "      <td>3.719915e+05</td>\n",
       "      <td>0.000000</td>\n",
       "      <td>0.000000</td>\n",
       "      <td>1.000000</td>\n",
       "      <td>2.000000</td>\n",
       "      <td>0.000000</td>\n",
       "      <td>0.000000</td>\n",
       "      <td>0.000000</td>\n",
       "      <td>0.000000</td>\n",
       "      <td>0.000000</td>\n",
       "      <td>...</td>\n",
       "      <td>4.000000</td>\n",
       "      <td>1.000000</td>\n",
       "      <td>2.000000</td>\n",
       "      <td>6.000000</td>\n",
       "      <td>0.000000</td>\n",
       "      <td>0.000000</td>\n",
       "      <td>0.000000</td>\n",
       "      <td>0.000000</td>\n",
       "      <td>0.000000</td>\n",
       "      <td>0.000000</td>\n",
       "    </tr>\n",
       "    <tr>\n",
       "      <th>50%</th>\n",
       "      <td>7.435475e+05</td>\n",
       "      <td>0.000000</td>\n",
       "      <td>1.000000</td>\n",
       "      <td>1.000000</td>\n",
       "      <td>4.000000</td>\n",
       "      <td>0.000000</td>\n",
       "      <td>0.000000</td>\n",
       "      <td>0.000000</td>\n",
       "      <td>0.000000</td>\n",
       "      <td>0.000000</td>\n",
       "      <td>...</td>\n",
       "      <td>5.000000</td>\n",
       "      <td>1.000000</td>\n",
       "      <td>3.000000</td>\n",
       "      <td>7.000000</td>\n",
       "      <td>0.000000</td>\n",
       "      <td>1.000000</td>\n",
       "      <td>1.000000</td>\n",
       "      <td>0.000000</td>\n",
       "      <td>0.000000</td>\n",
       "      <td>0.000000</td>\n",
       "    </tr>\n",
       "    <tr>\n",
       "      <th>75%</th>\n",
       "      <td>1.115549e+06</td>\n",
       "      <td>0.000000</td>\n",
       "      <td>3.000000</td>\n",
       "      <td>2.000000</td>\n",
       "      <td>6.000000</td>\n",
       "      <td>1.000000</td>\n",
       "      <td>0.000000</td>\n",
       "      <td>1.000000</td>\n",
       "      <td>1.000000</td>\n",
       "      <td>0.000000</td>\n",
       "      <td>...</td>\n",
       "      <td>7.000000</td>\n",
       "      <td>2.000000</td>\n",
       "      <td>4.000000</td>\n",
       "      <td>9.000000</td>\n",
       "      <td>0.000000</td>\n",
       "      <td>1.000000</td>\n",
       "      <td>1.000000</td>\n",
       "      <td>1.000000</td>\n",
       "      <td>1.000000</td>\n",
       "      <td>0.000000</td>\n",
       "    </tr>\n",
       "    <tr>\n",
       "      <th>max</th>\n",
       "      <td>1.488027e+06</td>\n",
       "      <td>1.000000</td>\n",
       "      <td>7.000000</td>\n",
       "      <td>4.000000</td>\n",
       "      <td>11.000000</td>\n",
       "      <td>1.000000</td>\n",
       "      <td>6.000000</td>\n",
       "      <td>1.000000</td>\n",
       "      <td>1.000000</td>\n",
       "      <td>1.000000</td>\n",
       "      <td>...</td>\n",
       "      <td>19.000000</td>\n",
       "      <td>10.000000</td>\n",
       "      <td>13.000000</td>\n",
       "      <td>23.000000</td>\n",
       "      <td>1.000000</td>\n",
       "      <td>1.000000</td>\n",
       "      <td>1.000000</td>\n",
       "      <td>1.000000</td>\n",
       "      <td>1.000000</td>\n",
       "      <td>1.000000</td>\n",
       "    </tr>\n",
       "  </tbody>\n",
       "</table>\n",
       "<p>8 rows × 59 columns</p>\n",
       "</div>"
      ],
      "text/plain": [
       "                 id         target      ps_ind_01  ps_ind_02_cat  \\\n",
       "count  5.952120e+05  595212.000000  595212.000000  594996.000000   \n",
       "mean   7.438036e+05       0.036448       1.900378       1.359799   \n",
       "std    4.293678e+05       0.187401       1.983789       0.663193   \n",
       "min    7.000000e+00       0.000000       0.000000       1.000000   \n",
       "25%    3.719915e+05       0.000000       0.000000       1.000000   \n",
       "50%    7.435475e+05       0.000000       1.000000       1.000000   \n",
       "75%    1.115549e+06       0.000000       3.000000       2.000000   \n",
       "max    1.488027e+06       1.000000       7.000000       4.000000   \n",
       "\n",
       "           ps_ind_03  ps_ind_04_cat  ps_ind_05_cat  ps_ind_06_bin  \\\n",
       "count  595212.000000  595129.000000  589403.000000  595212.000000   \n",
       "mean        4.423318       0.416992       0.419038       0.393742   \n",
       "std         2.699902       0.493062       1.350023       0.488579   \n",
       "min         0.000000       0.000000       0.000000       0.000000   \n",
       "25%         2.000000       0.000000       0.000000       0.000000   \n",
       "50%         4.000000       0.000000       0.000000       0.000000   \n",
       "75%         6.000000       1.000000       0.000000       1.000000   \n",
       "max        11.000000       1.000000       6.000000       1.000000   \n",
       "\n",
       "       ps_ind_07_bin  ps_ind_08_bin       ...           ps_calc_11  \\\n",
       "count  595212.000000  595212.000000       ...        595212.000000   \n",
       "mean        0.257033       0.163921       ...             5.441382   \n",
       "std         0.436998       0.370205       ...             2.332871   \n",
       "min         0.000000       0.000000       ...             0.000000   \n",
       "25%         0.000000       0.000000       ...             4.000000   \n",
       "50%         0.000000       0.000000       ...             5.000000   \n",
       "75%         1.000000       0.000000       ...             7.000000   \n",
       "max         1.000000       1.000000       ...            19.000000   \n",
       "\n",
       "          ps_calc_12     ps_calc_13     ps_calc_14  ps_calc_15_bin  \\\n",
       "count  595212.000000  595212.000000  595212.000000   595212.000000   \n",
       "mean        1.441918       2.872288       7.539026        0.122427   \n",
       "std         1.202963       1.694887       2.746652        0.327779   \n",
       "min         0.000000       0.000000       0.000000        0.000000   \n",
       "25%         1.000000       2.000000       6.000000        0.000000   \n",
       "50%         1.000000       3.000000       7.000000        0.000000   \n",
       "75%         2.000000       4.000000       9.000000        0.000000   \n",
       "max        10.000000      13.000000      23.000000        1.000000   \n",
       "\n",
       "       ps_calc_16_bin  ps_calc_17_bin  ps_calc_18_bin  ps_calc_19_bin  \\\n",
       "count   595212.000000   595212.000000   595212.000000   595212.000000   \n",
       "mean         0.627840        0.554182        0.287182        0.349024   \n",
       "std          0.483381        0.497056        0.452447        0.476662   \n",
       "min          0.000000        0.000000        0.000000        0.000000   \n",
       "25%          0.000000        0.000000        0.000000        0.000000   \n",
       "50%          1.000000        1.000000        0.000000        0.000000   \n",
       "75%          1.000000        1.000000        1.000000        1.000000   \n",
       "max          1.000000        1.000000        1.000000        1.000000   \n",
       "\n",
       "       ps_calc_20_bin  \n",
       "count   595212.000000  \n",
       "mean         0.153318  \n",
       "std          0.360295  \n",
       "min          0.000000  \n",
       "25%          0.000000  \n",
       "50%          0.000000  \n",
       "75%          0.000000  \n",
       "max          1.000000  \n",
       "\n",
       "[8 rows x 59 columns]"
      ]
     },
     "execution_count": 6,
     "metadata": {},
     "output_type": "execute_result"
    }
   ],
   "source": [
    "df_train.describe()"
   ]
  },
  {
   "cell_type": "markdown",
   "metadata": {},
   "source": [
    "### Heatmap "
   ]
  },
  {
   "cell_type": "code",
   "execution_count": 7,
   "metadata": {},
   "outputs": [
    {
     "data": {
      "text/plain": [
       "<matplotlib.axes._subplots.AxesSubplot at 0x10a6d2e80>"
      ]
     },
     "execution_count": 7,
     "metadata": {},
     "output_type": "execute_result"
    },
    {
     "data": {
      "image/png": "[encoded data removed]",
      "text/plain": [
       "<matplotlib.figure.Figure at 0x10ba8c320>"
      ]
     },
     "metadata": {},
     "output_type": "display_data"
    }
   ],
   "source": [
    "import seaborn as sns\n",
    "cor = df_train.corr()\n",
    "plt.figure(figsize=(16,10))\n",
    "sns.heatmap(cor)"
   ]
  },
  {
   "cell_type": "markdown",
   "metadata": {},
   "source": [
    "#### Since 'ps_calc' features do not show any have zero relationship with other features\n",
    "#### We can delete them."
   ]
  },
  {
   "cell_type": "code",
   "execution_count": 4,
   "metadata": {},
   "outputs": [],
   "source": [
    "col_to_drop = list(df_train.columns[df_train.columns.str.startswith('ps_calc_')])\n",
    "df_train = df_train.drop(col_to_drop, axis=1)  \n",
    "df_test = df_test.drop(col_to_drop, axis=1)"
   ]
  },
  {
   "cell_type": "markdown",
   "metadata": {},
   "source": [
    "### feature engineering"
   ]
  },
  {
   "cell_type": "code",
   "execution_count": 48,
   "metadata": {},
   "outputs": [
    {
     "name": "stdout",
     "output_type": "stream",
     "text": [
      "current feature                                 ps_reg_01_plus_ps_car_04_cat    2 in   0.1"
     ]
    }
   ],
   "source": [
    "# from https://www.kaggle.com/aharless/xgboost-cv-lb-284\n",
    "# Process data\n",
    "id_test = df_test['id'].values\n",
    "id_train = df_train['id'].values\n",
    "y = df_train['target']\n",
    "df_train = df_train.drop(['target'], axis=1)\n",
    "\n",
    "train_features = list(df_train)\n",
    "\n",
    "combs = [\n",
    "    ('ps_reg_01', 'ps_car_02_cat'),  \n",
    "    ('ps_reg_01', 'ps_car_04_cat'),\n",
    "]\n",
    "\n",
    "start = time.time()\n",
    "for n_c, (f1, f2) in enumerate(combs):\n",
    "    name1 = f1 + \"_plus_\" + f2\n",
    "    print('current feature %60s %4d in %5.1f'\n",
    "          % (name1, n_c + 1, (time.time() - start) / 60), end='')\n",
    "    print('\\r' * 75, end='')\n",
    "    df_train[name1] = df_train[f1].apply(lambda x: str(x)) + \"_\" + df_train[f2].apply(lambda x: str(x))\n",
    "    df_test[name1] = df_test[f1].apply(lambda x: str(x)) + \"_\" + df_test[f2].apply(lambda x: str(x))\n",
    "    \n",
    "    # Label Encode\n",
    "    lbl = LabelEncoder()\n",
    "    lbl.fit(list(df_train[name1].values) + list(df_test[name1].values))\n",
    "    df_train[name1] = lbl.transform(list(df_train[name1].values))\n",
    "    df_test[name1] = lbl.transform(list(df_test[name1].values))\n",
    "\n",
    "    train_features.append(name1)"
   ]
  },
  {
   "cell_type": "code",
   "execution_count": 49,
   "metadata": {},
   "outputs": [],
   "source": [
    "df_train = df_train[train_features]\n",
    "df_test = df_test[train_features]"
   ]
  },
  {
   "cell_type": "markdown",
   "metadata": {},
   "source": [
    "## Work with missing values"
   ]
  },
  {
   "cell_type": "code",
   "execution_count": 5,
   "metadata": {
    "collapsed": true
   },
   "outputs": [],
   "source": [
    "def get_missing_features(df):\n",
    "    missings = pd.DataFrame([], columns=['feature', 'no_recoreds', 'percentage'])\n",
    "    total_rows = df.shape[0]\n",
    "    index = 0\n",
    "    for feature in list(df):\n",
    "        total_nulls = df[feature].isnull().sum()\n",
    "        if total_nulls > 0:\n",
    "            missings_perc = total_nulls / total_rows\n",
    "            missings.loc[index] = [feature, total_nulls, missings_perc]\n",
    "            index += 1\n",
    "    missings = missings.sort_values('no_recoreds', ascending=False)\n",
    "    return missings"
   ]
  },
  {
   "cell_type": "code",
   "execution_count": 6,
   "metadata": {},
   "outputs": [
    {
     "name": "stdout",
     "output_type": "stream",
     "text": [
      "          feature no_recoreds  percentage\n",
      "6   ps_car_03_cat      411231    0.690898\n",
      "7   ps_car_05_cat      266551    0.447825\n",
      "3       ps_reg_03      107772    0.181065\n",
      "12      ps_car_14       42620    0.071605\n",
      "8   ps_car_07_cat       11489    0.019302\n",
      "2   ps_ind_05_cat        5809    0.009760\n",
      "9   ps_car_09_cat         569    0.000956\n",
      "0   ps_ind_02_cat         216    0.000363\n",
      "4   ps_car_01_cat         107    0.000180\n",
      "1   ps_ind_04_cat          83    0.000139\n",
      "5   ps_car_02_cat           5    0.000008\n",
      "10      ps_car_11           5    0.000008\n",
      "11      ps_car_12           1    0.000002\n"
     ]
    }
   ],
   "source": [
    "df_missings = get_missing_features(df_train)\n",
    "print(df_missings)"
   ]
  },
  {
   "cell_type": "markdown",
   "metadata": {},
   "source": [
    "### Bar plot of missing features"
   ]
  },
  {
   "cell_type": "code",
   "execution_count": 53,
   "metadata": {},
   "outputs": [
    {
     "data": {
      "text/plain": [
       "<matplotlib.axes._subplots.AxesSubplot at 0x1206390b8>"
      ]
     },
     "execution_count": 53,
     "metadata": {},
     "output_type": "execute_result"
    },
    {
     "data": {
      "image/png": "[encoded data removed]",
      "text/plain": [
       "<matplotlib.figure.Figure at 0x120594748>"
      ]
     },
     "metadata": {},
     "output_type": "display_data"
    }
   ],
   "source": [
    "df_missings.plot(x='feature', y='no_recoreds', kind='bar', )"
   ]
  },
  {
   "cell_type": "markdown",
   "metadata": {},
   "source": [
    "### Treat missing values by mean of the column"
   ]
  },
  {
   "cell_type": "code",
   "execution_count": 7,
   "metadata": {},
   "outputs": [],
   "source": [
    "for i, feature in enumerate(list(df_train.drop(['id'], axis=1))):\n",
    "    if df_train[feature].isnull().sum() > 0:\n",
    "        df_train[feature].fillna(df_train[feature].mode()[0],inplace=True)\n",
    "\n",
    "for i, feature in enumerate(list(df_test.drop(['id'], axis=1))):\n",
    "    if df_test[feature].isnull().sum() > 0:\n",
    "        df_test[feature].fillna(df_test[feature].mode()[0],inplace=True)"
   ]
  },
  {
   "cell_type": "markdown",
   "metadata": {},
   "source": [
    "### Check if there are any missing values"
   ]
  },
  {
   "cell_type": "code",
   "execution_count": 8,
   "metadata": {},
   "outputs": [
    {
     "data": {
      "text/html": [
       "<div>\n",
       "<style>\n",
       "    .dataframe thead tr:only-child th {\n",
       "        text-align: right;\n",
       "    }\n",
       "\n",
       "    .dataframe thead th {\n",
       "        text-align: left;\n",
       "    }\n",
       "\n",
       "    .dataframe tbody tr th {\n",
       "        vertical-align: top;\n",
       "    }\n",
       "</style>\n",
       "<table border=\"1\" class=\"dataframe\">\n",
       "  <thead>\n",
       "    <tr style=\"text-align: right;\">\n",
       "      <th></th>\n",
       "      <th>feature</th>\n",
       "      <th>no_recoreds</th>\n",
       "      <th>percentage</th>\n",
       "    </tr>\n",
       "  </thead>\n",
       "  <tbody>\n",
       "  </tbody>\n",
       "</table>\n",
       "</div>"
      ],
      "text/plain": [
       "Empty DataFrame\n",
       "Columns: [feature, no_recoreds, percentage]\n",
       "Index: []"
      ]
     },
     "execution_count": 8,
     "metadata": {},
     "output_type": "execute_result"
    }
   ],
   "source": [
    "get_missing_features(df_train)\n",
    "get_missing_features(df_test)"
   ]
  },
  {
   "cell_type": "markdown",
   "metadata": {},
   "source": [
    "## Feature engineering"
   ]
  },
  {
   "cell_type": "code",
   "execution_count": 9,
   "metadata": {},
   "outputs": [
    {
     "name": "stdout",
     "output_type": "stream",
     "text": [
      "(595212, 198) (892816, 198)\n"
     ]
    }
   ],
   "source": [
    "id_test = df_test['id'].values\n",
    "y = df_train['target'].values\n",
    "\n",
    "df_train = df_train.drop(['target','id'], axis = 1)\n",
    "df_test = df_test.drop(['id'], axis = 1)\n",
    "\n",
    "col_to_drop = df_train.columns[df_train.columns.str.startswith('ps_calc_')]\n",
    "df_train = df_train.drop(col_to_drop, axis=1)  \n",
    "df_test = df_test.drop(col_to_drop, axis=1)  \n",
    "\n",
    "# df_train = df_train.replace(-1, np.nan)\n",
    "# df_test = df_test.replace(-1, np.nan)\n",
    "\n",
    "cat_features = [a for a in df_train.columns if a.endswith('cat')]\n",
    "\n",
    "for column in cat_features:\n",
    "    temp = pd.get_dummies(pd.Series(df_train[column]))\n",
    "    df_train = pd.concat([df_train,temp],axis=1)\n",
    "    df_train = df_train.drop([column],axis=1)\n",
    "    \n",
    "for column in cat_features:\n",
    "    temp = pd.get_dummies(pd.Series(df_test[column]))\n",
    "    df_test = pd.concat([df_test,temp],axis=1)\n",
    "    df_test = df_test.drop([column],axis=1)\n",
    "\n",
    "print(df_train.values.shape, df_test.values.shape)"
   ]
  },
  {
   "cell_type": "markdown",
   "metadata": {},
   "source": [
    "## Check category features of the dataset"
   ]
  },
  {
   "cell_type": "code",
   "execution_count": 12,
   "metadata": {},
   "outputs": [
    {
     "name": "stdout",
     "output_type": "stream",
     "text": [
      "ps_ind_02_cat has 4 unique values\n",
      "ps_ind_04_cat has 2 unique values\n",
      "ps_ind_05_cat has 7 unique values\n",
      "ps_car_01_cat has 12 unique values\n",
      "ps_car_02_cat has 2 unique values\n",
      "ps_car_03_cat has 2 unique values\n",
      "ps_car_04_cat has 10 unique values\n",
      "ps_car_05_cat has 2 unique values\n",
      "ps_car_06_cat has 18 unique values\n",
      "ps_car_07_cat has 2 unique values\n",
      "ps_car_08_cat has 2 unique values\n",
      "ps_car_09_cat has 5 unique values\n",
      "ps_car_10_cat has 3 unique values\n",
      "ps_car_11_cat has 104 unique values\n"
     ]
    }
   ],
   "source": [
    "cat_cols = [col for col in df_train.columns if '_cat' in col]\n",
    "dummed_cols = []\n",
    "\n",
    "for cat_col in cat_cols:\n",
    "    unique_values = len(np.unique(df_train[cat_col]))\n",
    "    if unique_values < 50:\n",
    "        dummed_cols.append(cat_col)\n",
    "    print('{} has {} unique values'.format(cat_col, unique_values))"
   ]
  },
  {
   "cell_type": "markdown",
   "metadata": {},
   "source": [
    "## Handle outliers"
   ]
  },
  {
   "cell_type": "markdown",
   "metadata": {},
   "source": [
    "### 1. Detect outliers"
   ]
  },
  {
   "cell_type": "code",
   "execution_count": 14,
   "metadata": {
    "collapsed": true
   },
   "outputs": [],
   "source": [
    "from collections import Counter\n",
    "\n",
    "def detect_outlier(df):\n",
    "    features = df.columns\n",
    "    outliers  = []\n",
    "    for i, feature in enumerate(features):\n",
    "        if df[feature].dtype == 'float64':\n",
    "            # Calculate Q1 (25th percentile of the data) for the given feature\n",
    "            Q1 = np.percentile(df[feature], 25)\n",
    "            # Calculate Q3 (75th percentile of the data) for the given feature\n",
    "            Q3 = np.percentile(df[feature], 75)\n",
    "            # Use the interquartile range to calculate an outlier step\n",
    "            step = 1.5 * (Q3 - Q1)\n",
    "            feature_outliers = df[~((df[feature] >= Q1 - step) & (df[feature] <= Q3 + step))]\n",
    "            outliers.extend(list(feature_outliers.index.values))\n",
    "            print('Feature: {}, outliers: {}\\n'.format(feature, len(feature_outliers.index)))\n",
    "    \n",
    "    multi_feature_outliers = (Counter(outliers) - Counter(set(outliers))).keys()\n",
    "    return multi_feature_outliers"
   ]
  },
  {
   "cell_type": "code",
   "execution_count": 15,
   "metadata": {},
   "outputs": [
    {
     "name": "stdout",
     "output_type": "stream",
     "text": [
      "Feature: ps_reg_01, outliers: 0\n",
      "\n",
      "Feature: ps_reg_02, outliers: 36793\n",
      "\n",
      "Feature: ps_reg_03, outliers: 29363\n",
      "\n",
      "Feature: ps_car_11, outliers: 25983\n",
      "\n",
      "Feature: ps_car_12, outliers: 15355\n",
      "\n",
      "Feature: ps_car_13, outliers: 26913\n",
      "\n",
      "Feature: ps_car_14, outliers: 30420\n",
      "\n",
      "Feature: ps_car_15, outliers: 27409\n",
      "\n"
     ]
    }
   ],
   "source": [
    "outliers  = detect_outlier(df_train.drop(['id', 'target'], axis = 1))"
   ]
  },
  {
   "cell_type": "markdown",
   "metadata": {},
   "source": [
    "### Plot class ratio"
   ]
  },
  {
   "cell_type": "code",
   "execution_count": 29,
   "metadata": {},
   "outputs": [
    {
     "data": {
      "image/png": "[encoded data removed]",
      "text/plain": [
       "<matplotlib.figure.Figure at 0x110b09d30>"
      ]
     },
     "metadata": {},
     "output_type": "display_data"
    }
   ],
   "source": [
    "# Distribution of target variable\n",
    "def plot_class_balace(train, val):\n",
    "    train_aa = dict(Counter(train))\n",
    "    val_aa = dict(Counter(val))\n",
    "    \n",
    "    plt.figure(figsize=(10, 4))\n",
    "    plt.subplot(121)\n",
    "    plt.bar([0, 1], height= [train_aa[0],train_aa[1]])\n",
    "    plt.xticks([0, 1]);\n",
    "    plt.xlabel('Class')\n",
    "    plt.ylabel('Number of data points')\n",
    "    plt.title('Train positive class {}%\\n:'.format(round(train_aa[1]*100/train_aa[0], 2)))\n",
    "    \n",
    "    plt.subplot(122)\n",
    "    plt.bar([0, 1], height= [val_aa[0],val_aa[1]])\n",
    "    plt.xticks([0, 1]);\n",
    "    plt.xlabel('Class')\n",
    "    plt.title('Valid pos class {}%\\n:'.format(round(val_aa[1]*100/val_aa[0], 2)))\n",
    "    plt.tight_layout()\n",
    "    plt.show()\n",
    "\n",
    "plot_class_balace(y_train_im, y_val_im)"
   ]
  },
  {
   "cell_type": "markdown",
   "metadata": {},
   "source": [
    "### Gini coeficient "
   ]
  },
  {
   "cell_type": "code",
   "execution_count": 10,
   "metadata": {
    "collapsed": true
   },
   "outputs": [],
   "source": [
    "# from https://www.kaggle.com/mashavasilenko/\n",
    "# porto-seguro-xgb-modeling-and-parameters-tuning\n",
    "def eval_gini(y_true, y_prob):\n",
    "    y_true = np.asarray(y_true)\n",
    "    y_true = y_true[np.argsort(y_prob)]\n",
    "    ntrue = 0\n",
    "    gini = 0\n",
    "    delta = 0\n",
    "    n = len(y_true)\n",
    "    for i in range(n-1, -1, -1):\n",
    "        y_i = y_true[i]\n",
    "        ntrue += y_i\n",
    "        gini += y_i * delta\n",
    "        delta += 1 - y_i\n",
    "    gini = 1 - 2 * gini / (ntrue * (n - ntrue))\n",
    "    return gini\n",
    "\n",
    "\n",
    "def gini_xgb(preds, dtrain):\n",
    "    labels = dtrain.get_label()\n",
    "    gini_score = -eval_gini(labels, preds)\n",
    "    return [('gini', gini_score)]\n",
    "\n",
    "def gini_normalized(a, p):\n",
    "    return gini(a, p) / gini(a, a)"
   ]
  },
  {
   "cell_type": "code",
   "execution_count": 67,
   "metadata": {
    "collapsed": true
   },
   "outputs": [],
   "source": [
    "K = 5\n",
    "y_valid_pred = 0*y\n",
    "y_test_pred = 0\n",
    "kf = KFold(n_splits = K, random_state = random_state, shuffle = True)"
   ]
  },
  {
   "cell_type": "markdown",
   "metadata": {},
   "source": [
    "### model building from lightgbm"
   ]
  },
  {
   "cell_type": "markdown",
   "metadata": {},
   "source": [
    "### Ensembling"
   ]
  },
  {
   "cell_type": "code",
   "execution_count": 35,
   "metadata": {
    "collapsed": true
   },
   "outputs": [],
   "source": [
    "from sklearn.model_selection import StratifiedKFold\n",
    "\n",
    "class Ensemble(object):\n",
    "    def __init__(self, n_splits, base_models):\n",
    "        self.n_splits = n_splits\n",
    "        self.base_models = base_models\n",
    "\n",
    "    def fit_predict(self, X, y, T):\n",
    "        X = np.array(X)\n",
    "        y = np.array(y)\n",
    "        T = np.array(T)\n",
    "\n",
    "        folds = list(StratifiedKFold(n_splits=self.n_splits, shuffle=True, random_state=2016).split(X, y))\n",
    "\n",
    "        S_train = np.zeros((X.shape[0], len(self.base_models)))\n",
    "        S_test = np.zeros((T.shape[0], len(self.base_models)))\n",
    "        \n",
    "        for i, clf in enumerate(self.base_models):\n",
    "            S_test_i = np.zeros((T.shape[0], self.n_splits))\n",
    "\n",
    "            for j, (train_idx, valid_idx) in enumerate(folds):\n",
    "                X_train = X[train_idx]\n",
    "                y_train = y[train_idx]\n",
    "                X_valid = X[valid_idx]\n",
    "                y_valid = y[valid_idx]\n",
    "                \n",
    "                clf.fit(X_train, y_train)\n",
    "                valid_pred = clf.predict_proba(X_valid)[:,1]\n",
    "                S_train[valid_idx, i] = valid_pred\n",
    "                S_test_i[:, j] = clf.predict_proba(T)[:,1]\n",
    "            \n",
    "            print( \"\\nTraining Gini for model {} : {}\".format(i, eval_gini(y, S_train[:,i])))\n",
    "            S_test[:, i] = S_test_i.mean(axis=1)\n",
    "            \n",
    "        return S_train, S_test"
   ]
  },
  {
   "cell_type": "markdown",
   "metadata": {},
   "source": [
    "## XGboost model"
   ]
  },
  {
   "cell_type": "code",
   "execution_count": 73,
   "metadata": {
    "collapsed": true
   },
   "outputs": [],
   "source": [
    "# Create submission file\n",
    "sub = pd.DataFrame()\n",
    "sub['id'] = id_test\n",
    "sub['target'] = y_test_pred\n",
    "sub.to_csv('xgb_submit_kfold.csv', float_format='%.6f', index=False)"
   ]
  },
  {
   "cell_type": "code",
   "execution_count": null,
   "metadata": {
    "collapsed": true
   },
   "outputs": [],
   "source": [
    "xgb_params = {}\n",
    "xgb_params['learning_rate'] = 0.02\n",
    "xgb_params['n_estimators'] = 300\n",
    "xgb_params['max_depth'] = 6\n",
    "xgb_params['subsample'] = 0.8\n",
    "xgb_params['subsample_freq'] = 10\n",
    "xgb_params['colsample_bytree'] = 0.8   \n",
    "xgb_params['min_child_samples'] = 200\n",
    "xgb_params['nthread'] = 4\n",
    "xgb_params['random_state'] = 99\n",
    "\n",
    "xgb_params2 = {}\n",
    "xgb_params2['learning_rate'] = 0.02\n",
    "xgb_params2['n_estimators'] = 400\n",
    "xgb_params2['max_depth'] = 10\n",
    "xgb_params2['subsample'] = 0.6\n",
    "xgb_params2['subsample_freq'] = 10\n",
    "xgb_params2['colsample_bytree'] = 0.6   \n",
    "xgb_params2['min_child_samples'] = 300\n",
    "xgb_params2['nthread'] = 4\n",
    "xgb_params2['random_state'] = 99\n",
    "\n",
    "xgb_params2 = {}\n",
    "xgb_params2['learning_rate'] = 0.02\n",
    "xgb_params2['n_estimators'] = 200\n",
    "xgb_params2['max_depth'] = 8\n",
    "xgb_params2['subsample'] = 0.3\n",
    "xgb_params2['subsample_freq'] = 10\n",
    "xgb_params2['colsample_bytree'] = 0.5   \n",
    "xgb_params2['min_child_samples'] = 200\n",
    "xgb_params2['nthread'] = 4\n",
    "xgb_params2['random_state'] = 99\n",
    "   \n",
    "xgb_model = XGBClassifier(**lgb_params)\n",
    "xgb_model2 = XGBClassifier(**lgb_params2)\n",
    "xgb_model3 = XGBClassifier(**lgb_params3)"
   ]
  },
  {
   "cell_type": "code",
   "execution_count": null,
   "metadata": {
    "collapsed": true
   },
   "outputs": [],
   "source": [
    "xgb_stack = Ensemble(n_splits = 5,\n",
    "        base_models = (xgb_model, xgb_model2, xgb_model3))        \n",
    "X = df_train\n",
    "Y = y\n",
    "T = df_test\n",
    "xgb_train_pred, xgb_test_pred = stack.fit_predict(X, Y, T) "
   ]
  },
  {
   "cell_type": "code",
   "execution_count": null,
   "metadata": {
    "collapsed": true
   },
   "outputs": [],
   "source": [
    "sub = pd.DataFrame()\n",
    "sub['id'] = id_test\n",
    "sub['target'] = xgb_test_pred\n",
    "sub.to_csv('xgb_submit_ensemble.csv', float_format='%.6f', index=False)"
   ]
  },
  {
   "cell_type": "markdown",
   "metadata": {},
   "source": [
    "## Lightbm model"
   ]
  },
  {
   "cell_type": "code",
   "execution_count": 36,
   "metadata": {},
   "outputs": [],
   "source": [
    "# LightGBM params\n",
    "lgb_params = {}\n",
    "lgb_params['learning_rate'] = 0.02\n",
    "lgb_params['n_estimators'] = 650\n",
    "lgb_params['max_bin'] = 10\n",
    "lgb_params['subsample'] = 0.8\n",
    "lgb_params['subsample_freq'] = 10\n",
    "lgb_params['colsample_bytree'] = 0.8   \n",
    "lgb_params['min_child_samples'] = 500\n",
    "lgb_params['random_state'] = 99\n",
    "lgb_params['scale_pos_weight'] = 2\n",
    "\n",
    "\n",
    "lgb_params2 = {}\n",
    "lgb_params2['n_estimators'] = 700\n",
    "lgb_params2['learning_rate'] = 0.02\n",
    "lgb_params2['colsample_bytree'] = 0.3   \n",
    "lgb_params2['subsample'] = 0.7\n",
    "lgb_params2['subsample_freq'] = 2\n",
    "lgb_params2['num_leaves'] = 16\n",
    "lgb_params2['random_state'] = 99\n",
    "lgb_params['scale_pos_weight'] = 4\n",
    "\n",
    "\n",
    "lgb_params3 = {}\n",
    "lgb_params3['n_estimators'] = 700\n",
    "lgb_params3['max_depth'] = 4\n",
    "lgb_params3['learning_rate'] = 0.02\n",
    "lgb_params3['random_state'] = 99\n",
    "lgb_params['scale_pos_weight'] = 2\n",
    "\n",
    "lgb_model = LGBMClassifier(**lgb_params)\n",
    "lgb_model2 = LGBMClassifier(**lgb_params2)\n",
    "lgb_model3 = LGBMClassifier(**lgb_params3)"
   ]
  },
  {
   "cell_type": "code",
   "execution_count": 37,
   "metadata": {},
   "outputs": [
    {
     "name": "stdout",
     "output_type": "stream",
     "text": [
      "\n",
      "Training Gini for model 0 : 0.2861602666288441\n",
      "\n",
      "Training Gini for model 1 : 0.2841128408305261\n",
      "\n",
      "Training Gini for model 2 : 0.28229620390828347\n"
     ]
    }
   ],
   "source": [
    "stack = Ensemble(n_splits = 5,\n",
    "        base_models = (lgb_model, lgb_model2, lgb_model3))        \n",
    "X = df_train\n",
    "Y = y\n",
    "T = df_test\n",
    "lgb_train_pred, lgb_test_pred = stack.fit_predict(X, Y, T) "
   ]
  },
  {
   "cell_type": "code",
   "execution_count": 28,
   "metadata": {
    "scrolled": true
   },
   "outputs": [],
   "source": [
    "# Create submission file\n",
    "sub = pd.DataFrame()\n",
    "sub['id'] = id_test\n",
    "sub['target'] = lgb_test_pred\n",
    "sub.to_csv('lightgbm_submit_ensemble.csv', float_format='%.6f', index=False)"
   ]
  },
  {
   "cell_type": "markdown",
   "metadata": {},
   "source": [
    "## analyse correlation among the models"
   ]
  },
  {
   "cell_type": "code",
   "execution_count": 16,
   "metadata": {},
   "outputs": [
    {
     "data": {
      "text/plain": [
       "<matplotlib.axes._subplots.AxesSubplot at 0x106cc2358>"
      ]
     },
     "execution_count": 16,
     "metadata": {},
     "output_type": "execute_result"
    },
    {
     "data": {
      "image/png": "[encoded data removed]",
      "text/plain": [
       "<matplotlib.figure.Figure at 0x10d709208>"
      ]
     },
     "metadata": {},
     "output_type": "display_data"
    }
   ],
   "source": [
    "import seaborn as sns\n",
    "test_pred_df = pd.DataFrame(data = test_pred)\n",
    "cor = test_pred_df.corr()\n",
    "plt.figure(figsize=(16,10))\n",
    "sns.heatmap(cor)"
   ]
  },
  {
   "cell_type": "markdown",
   "metadata": {},
   "source": [
    "### Classification report on validation datasets"
   ]
  },
  {
   "cell_type": "code",
   "execution_count": 92,
   "metadata": {},
   "outputs": [],
   "source": [
    "# from sklearn.metrics import accuracy_score, confusion_matrix, classification_report, roc_auc_score\n",
    "# Y_pred = lgb_model.predict(X_val)"
   ]
  },
  {
   "cell_type": "code",
   "execution_count": 27,
   "metadata": {},
   "outputs": [
    {
     "name": "stdout",
     "output_type": "stream",
     "text": [
      "1. The accuracy of the model is 0.7937098183284425\n",
      "\n",
      "2. Classification report \n",
      "              precision    recall  f1-score   support\n",
      "\n",
      "          0       0.97      0.81      0.88    172092\n",
      "          1       0.07      0.36      0.11      6472\n",
      "\n",
      "avg / total       0.94      0.79      0.86    178564\n",
      " \n",
      "\n",
      "3. Confusion matrix \n",
      " [[139369   4113]\n",
      " [ 32723   2359]] \n",
      "\n",
      "4. Roc_Auc score \n",
      " 0.5192884219640214 \n",
      "\n",
      "5. gini score: ('gini', 0.17942968930264594) \n",
      "\n"
     ]
    }
   ],
   "source": [
    "print('1. The accuracy of the model is {}\\n'.format(accuracy_score(Y_val, Y_pred)))\n",
    "print('2. Classification report \\n {} \\n'.format(classification_report(Y_val, Y_pred)))\n",
    "print('3. Confusion matrix \\n {} \\n'.format(confusion_matrix(Y_pred, Y_val)))\n",
    "print('4. Roc_Auc score \\n {} \\n'.format(roc_auc_score(Y_pred, Y_val)))\n",
    "print('5. gini score: {} \\n'.format(gini_xgb(Y_pred, Y_val)))"
   ]
  }
 ],
 "metadata": {
  "kernelspec": {
   "display_name": "Python 3",
   "language": "python",
   "name": "python3"
  },
  "language_info": {
   "codemirror_mode": {
    "name": "ipython",
    "version": 3
   },
   "file_extension": ".py",
   "mimetype": "text/x-python",
   "name": "python",
   "nbconvert_exporter": "python",
   "pygments_lexer": "ipython3",
   "version": "3.6.1"
  }
 },
 "nbformat": 4,
 "nbformat_minor": 2
}
